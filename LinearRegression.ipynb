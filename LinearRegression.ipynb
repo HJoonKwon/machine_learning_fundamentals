{
 "cells": [
  {
   "cell_type": "markdown",
   "metadata": {
    "colab_type": "text",
    "id": "view-in-github"
   },
   "source": [
    "<a href=\"https://colab.research.google.com/github/HJoonKwon/ml_fundamentals/blob/main/Linear_Regression.ipynb\" target=\"_parent\"><img src=\"https://colab.research.google.com/assets/colab-badge.svg\" alt=\"Open In Colab\"/></a>"
   ]
  },
  {
   "cell_type": "markdown",
   "metadata": {
    "id": "tUUoprp0lt0P"
   },
   "source": [
    "## Linear Regression \n",
    "- Supervised Learning Algorithm\n",
    "- For Regression Problems\n",
    "- Minimize MSE(Mean Squared Error)\n",
    "  - Gradient Descent\n",
    "  - Newton's method & Hessian Matrix \n",
    "- Equal to the linear least-square algorithm\n",
    "\n",
    "### How does it work?\n",
    "- Define a hypothesis function h(θ) to predict regression output given input X. For numerical simplicity, bias term is included in X as described blow. \n",
    "$$ h_{\\theta}(X^{(i)}) = \\theta^T X^{(i)} $$\n",
    "$$ X^{(i)} := [b, (X^{(i)})^T]^T $$\n",
    "- Define the cost function J, and find θ such that the model minimizes the cost function. Given ```m``` training examples,\n",
    "$$ J = \\frac{1}{2m} \\sum_{i=1}^m (h_{\\theta}(X^{(i)})-y^{(i)})^2 = \\frac{1}{2m} (h_{\\theta}(X)-y)^T (h_{\\theta}(X)-y)$$\n",
    "$$ \\theta^* = argmin_{\\theta} J(\\theta)$$\n",
    "- We can update θ in two ways\n",
    "  1. Gradient Descent to update θ iteratively using the gradient of J with respect to θ. \n",
    "  2. (Least-squres)Directly calculate the optimal θ that makes derivatives of cost function J zero. \n",
    "\n",
    "  #### 1) Gradient Descent \n",
    "  - α : learning rate \n",
    "  - For j-th element of θ\n",
    "  $$ \\theta_j  := \\theta_j - \\alpha \\frac{\\partial}{\\partial \\theta_j}J(θ)$$\n",
    "\n",
    "  #### 2) Least-squares\n",
    "\n",
    "  $$ \\theta^* = (X^T X)^{-1} X^T y $$"
   ]
  },
  {
   "cell_type": "code",
   "execution_count": 46,
   "metadata": {
    "id": "zzsj1RBMKD2K"
   },
   "outputs": [],
   "source": [
    "import numpy as np \n",
    "import matplotlib.pyplot as plt \n",
    "from sklearn.model_selection import train_test_split\n",
    "from sklearn.preprocessing import StandardScaler\n",
    "from sklearn.datasets import load_diabetes\n",
    "from sklearn.linear_model import LinearRegression as SKModel\n",
    "\n",
    "from ml_algorithms.linear_regression import * "
   ]
  },
  {
   "cell_type": "code",
   "execution_count": 2,
   "metadata": {},
   "outputs": [],
   "source": [
    "%matplotlib inline\n",
    "plt.rcParams['figure.figsize'] = (5.0, 4.0) # set default size of plots\n",
    "plt.rcParams['image.interpolation'] = 'nearest'\n",
    "plt.rcParams['image.cmap'] = 'gray'\n",
    "\n",
    "%load_ext autoreload\n",
    "%autoreload 2\n",
    "\n",
    "np.random.seed(42)"
   ]
  },
  {
   "cell_type": "markdown",
   "metadata": {
    "id": "E68EfozlZjFf"
   },
   "source": [
    "### 0) Define helper functions "
   ]
  },
  {
   "cell_type": "code",
   "execution_count": 6,
   "metadata": {
    "id": "JkT0DilTZmVP"
   },
   "outputs": [],
   "source": [
    "def normalize(data: np.ndarray):\n",
    "  data = (data - np.mean(data, axis=0))/np.std(data, axis=0)\n",
    "  return data "
   ]
  },
  {
   "cell_type": "markdown",
   "metadata": {
    "id": "hoTabtJ7J-a3"
   },
   "source": [
    "### 1) Prepare for dataset"
   ]
  },
  {
   "cell_type": "code",
   "execution_count": 4,
   "metadata": {
    "colab": {
     "base_uri": "https://localhost:8080/"
    },
    "id": "zat9AitEkxkQ",
    "outputId": "8ca5fafd-6f3d-4415-8187-7caea8344dbe"
   },
   "outputs": [
    {
     "name": "stdout",
     "output_type": "stream",
     "text": [
      "dict_keys(['data', 'target', 'frame', 'DESCR', 'feature_names', 'data_filename', 'target_filename', 'data_module'])\n",
      "['age', 'sex', 'bmi', 'bp', 's1', 's2', 's3', 's4', 's5', 's6']\n",
      "(442, 10)\n",
      "(442,)\n",
      "[ 0.03807591  0.05068012  0.06169621  0.02187239 -0.0442235  -0.03482076\n",
      " -0.04340085 -0.00259226  0.01990749 -0.01764613]\n"
     ]
    }
   ],
   "source": [
    "data = load_diabetes() \n",
    "print(data.keys())\n",
    "print(data['feature_names'])\n",
    "print(data['data'].shape)\n",
    "print(data['target'].shape)\n",
    "print(data['data'][0])"
   ]
  },
  {
   "cell_type": "code",
   "execution_count": 56,
   "metadata": {
    "colab": {
     "base_uri": "https://localhost:8080/"
    },
    "id": "K9_X7-dcYw0x",
    "outputId": "87270bbd-f776-4ad9-e2f4-58b83dffd7b4"
   },
   "outputs": [
    {
     "name": "stdout",
     "output_type": "stream",
     "text": [
      "(353, 10)\n",
      "(89, 10)\n",
      "[ 0.80050009  1.06548848  1.29708846  0.45984057 -0.92974581 -0.73206462\n",
      " -0.91245053 -0.05449919  0.41853093 -0.37098854]\n",
      "-0.014719475152121254\n"
     ]
    }
   ],
   "source": [
    "X = data['data']\n",
    "y = data['target']\n",
    "X = normalize(X)\n",
    "y = normalize(y)\n",
    "train_X, test_X, train_y, test_y = train_test_split(X, y, test_size=0.2, random_state=42)\n",
    "train_y = train_y.reshape((-1, 1))\n",
    "test_y = test_y.reshape((-1, 1))\n",
    "\n",
    "print(train_X.shape)\n",
    "print(test_X.shape)\n",
    "print(X[0])\n",
    "print(y[0])"
   ]
  },
  {
   "cell_type": "markdown",
   "metadata": {
    "id": "sBkrtve-ae3u"
   },
   "source": [
    "### 2) Visulize some part of data "
   ]
  },
  {
   "cell_type": "code",
   "execution_count": 57,
   "metadata": {
    "colab": {
     "base_uri": "https://localhost:8080/",
     "height": 296
    },
    "id": "QSJpdmbqankY",
    "outputId": "e3574d96-225b-4b3e-a7f7-933ad7565e11"
   },
   "outputs": [
    {
     "data": {
      "text/plain": [
       "[<matplotlib.lines.Line2D at 0x7f5b1c2afe80>]"
      ]
     },
     "execution_count": 57,
     "metadata": {},
     "output_type": "execute_result"
    },
    {
     "data": {
      "image/png": "[encoded data removed]",
      "text/plain": [
       "<Figure size 500x400 with 1 Axes>"
      ]
     },
     "metadata": {},
     "output_type": "display_data"
    }
   ],
   "source": [
    "plt.xlabel(data['feature_names'][0])\n",
    "plt.ylabel('Diabetes progresssion')\n",
    "plt.plot(X[:, 0], y, 'bo')"
   ]
  },
  {
   "cell_type": "markdown",
   "metadata": {
    "id": "VXvQoINEdYCD"
   },
   "source": [
    "### 3) Implement Linear Regression algorithm  "
   ]
  },
  {
   "cell_type": "code",
   "execution_count": 65,
   "metadata": {},
   "outputs": [
    {
     "name": "stdout",
     "output_type": "stream",
     "text": [
      "class LinearRegression():\n",
      "    def __init__(self):\n",
      "        self.train_X: np.ndarray\n",
      "        self.train_Y: np.ndarray\n",
      "        self.theta: np.ndarray\n",
      "\n",
      "    def fit(self, X: np.ndarray, Y: np.ndarray, learning_rate: float,\n",
      "            iterations: int) -> None:\n",
      "        self.train_X = X\n",
      "        self.train_Y = Y\n",
      "        self.theta = np.zeros((X.shape[1] + 1, Y.shape[1]))\n",
      "\n",
      "        costs = []\n",
      "        for iter in range(iterations):\n",
      "            Y_hat = self.hypothesis(self.train_X)\n",
      "            cost = self.cost(Y_hat, self.train_Y)\n",
      "            costs.append(cost)\n",
      "            if iter % 5 == 0 and iter != 0:\n",
      "                print(f\"Cost @ iter{iter}= {cost}\")\n",
      "            gradients = self.gradients(Y_hat)\n",
      "            self.update_parameters(gradients, learning_rate)\n",
      "        return costs \n",
      "\n",
      "    def predict(self, X: np.ndarray):\n",
      "        Y_hat = self.hypothesis(X)\n",
      "        return Y_hat\n",
      "\n",
      "    def cost(self, Y_hat: np.ndarray, Y: np.ndarray):\n",
      "        m = Y.shape[0]\n",
      "        loss = 1 / (2 * m) * np.sum((Y_hat - Y)**2, axis=0)\n",
      "        return np.squeeze(loss)\n",
      "\n",
      "    def gradients(self, Y_hat):\n",
      "        m = Y_hat.shape[0]\n",
      "        dw = 1 / m * self.train_X.T @ (Y_hat - self.train_Y)\n",
      "        db = 1 / m * np.sum((Y_hat - self.train_Y), axis=0, keepdims=True)\n",
      "        dtheta = np.concatenate((db, dw), axis=0)\n",
      "        return dtheta\n",
      "\n",
      "    def hypothesis(self, X: np.ndarray):\n",
      "        ones = np.ones((X.shape[0], 1))\n",
      "        X = np.concatenate((ones, X), axis=1)\n",
      "        Y_hat = X @ self.theta\n",
      "        return Y_hat\n",
      "\n",
      "    def update_parameters(self, gradients: np.ndarray,\n",
      "                          learning_rate: float) -> None:\n",
      "        self.theta -= learning_rate * gradients\n",
      "\n"
     ]
    }
   ],
   "source": [
    "import inspect\n",
    "lines = inspect.getsource(LinearRegression)\n",
    "print(lines)"
   ]
  },
  {
   "cell_type": "markdown",
   "metadata": {
    "id": "KRdQj1dkiHzx"
   },
   "source": [
    "### 4) Test the algorithm "
   ]
  },
  {
   "cell_type": "code",
   "execution_count": 62,
   "metadata": {},
   "outputs": [
    {
     "name": "stdout",
     "output_type": "stream",
     "text": [
      "Cost @ iter5= 0.28078766174423353\n",
      "Cost @ iter10= 0.25655700695589495\n",
      "Cost @ iter15= 0.24892628738921643\n",
      "Cost @ iter20= 0.24622114716718022\n",
      "Cost @ iter25= 0.2451758932336424\n",
      "Cost @ iter30= 0.24473280011501264\n",
      "Cost @ iter35= 0.24452481117372002\n",
      "Cost @ iter40= 0.24441544267373153\n",
      "Cost @ iter45= 0.2443502904852739\n"
     ]
    }
   ],
   "source": [
    "iterations = 50\n",
    "learning_rate = 0.1\n",
    "model = LinearRegression()\n",
    "train_costs = model.fit(train_X, train_y, learning_rate = learning_rate, iterations = iterations)"
   ]
  },
  {
   "cell_type": "code",
   "execution_count": 59,
   "metadata": {
    "tags": []
   },
   "outputs": [
    {
     "name": "stdout",
     "output_type": "stream",
     "text": [
      "0.24296997248374583\n"
     ]
    }
   ],
   "source": [
    "my_preds = model.predict(test_X)\n",
    "my_cost = model.cost(my_preds, test_y)\n",
    "print(my_cost)"
   ]
  },
  {
   "cell_type": "code",
   "execution_count": 60,
   "metadata": {
    "tags": []
   },
   "outputs": [
    {
     "name": "stdout",
     "output_type": "stream",
     "text": [
      "0.2445404657014974\n"
     ]
    }
   ],
   "source": [
    "validate_model = SKModel()\n",
    "validate_model.fit(train_X, train_y)\n",
    "validate_preds = validate_model.predict(test_X)\n",
    "validate_cost = model.cost(validate_preds, test_y)\n",
    "print(validate_cost)"
   ]
  },
  {
   "cell_type": "code",
   "execution_count": 64,
   "metadata": {
    "colab": {
     "base_uri": "https://localhost:8080/",
     "height": 296
    },
    "id": "GEp8x3EDjFtK",
    "outputId": "35fc6630-b780-41b8-fd4a-3ca5209419de"
   },
   "outputs": [
    {
     "data": {
      "text/plain": [
       "Text(0, 0.5, 'J')"
      ]
     },
     "execution_count": 64,
     "metadata": {},
     "output_type": "execute_result"
    },
    {
     "data": {
      "image/png": "[encoded data removed]",
      "text/plain": [
       "<Figure size 500x400 with 1 Axes>"
      ]
     },
     "metadata": {},
     "output_type": "display_data"
    }
   ],
   "source": [
    "plt.plot(range(1, iterations+1), train_costs, label='train')\n",
    "plt.legend()\n",
    "plt.xlabel('iter')\n",
    "plt.ylabel('J')"
   ]
  },
  {
   "cell_type": "markdown",
   "metadata": {
    "id": "Nwr_m0inlrFc"
   },
   "source": [
    "## References \n",
    "- https://towardsdatascience.com/coding-linear-regression-from-scratch-c42ec079902"
   ]
  },
  {
   "cell_type": "code",
   "execution_count": 8,
   "metadata": {
    "id": "SYZhnCA9lsCz"
   },
   "outputs": [],
   "source": []
  }
 ],
 "metadata": {
  "colab": {
   "authorship_tag": "ABX9TyPGoNzSDB8pHcgVsbLYk1o0",
   "include_colab_link": true,
   "provenance": []
  },
  "kernelspec": {
   "display_name": "Python 3 (ipykernel)",
   "language": "python",
   "name": "python3"
  },
  "language_info": {
   "codemirror_mode": {
    "name": "ipython",
    "version": 3
   },
   "file_extension": ".py",
   "mimetype": "text/x-python",
   "name": "python",
   "nbconvert_exporter": "python",
   "pygments_lexer": "ipython3",
   "version": "3.10.8"
  }
 },
 "nbformat": 4,
 "nbformat_minor": 4
}
