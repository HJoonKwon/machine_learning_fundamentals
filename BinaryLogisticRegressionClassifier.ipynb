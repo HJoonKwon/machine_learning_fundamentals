{
  "nbformat": 4,
  "nbformat_minor": 0,
  "metadata": {
    "colab": {
      "provenance": [],
      "authorship_tag": "ABX9TyOpV+F7yBJ2TR8qHgh0JF4b",
      "include_colab_link": true
    },
    "kernelspec": {
      "name": "python3",
      "display_name": "Python 3"
    },
    "language_info": {
      "name": "python"
    }
  },
  "cells": [
    {
      "cell_type": "markdown",
      "metadata": {
        "id": "view-in-github",
        "colab_type": "text"
      },
      "source": [
        "<a href=\"https://colab.research.google.com/github/HJoonKwon/ml_fundamentals/blob/main/BinaryLogisticRegressionClassifier.ipynb\" target=\"_parent\"><img src=\"https://colab.research.google.com/assets/colab-badge.svg\" alt=\"Open In Colab\"/></a>"
      ]
    },
    {
      "cell_type": "markdown",
      "source": [
        "## Binary Logistic Regression \n",
        "- Supervised learning algorithm \n",
        "- Discriminative classifier\n",
        "- Use an activation function called logistic function or sigmod function \n",
        "- Minimize binary cross engropy loss \n",
        "  - There is no closed-form solution\n",
        "  - So, we should use gradient descent to find an optimal solution.\n",
        "\n",
        "## How does it work? \n",
        "- The network will predict the probability of the output being positive. \n",
        "- The output of the network looks like below:\n",
        "$$ z = (\\sum_{i=1}^n w_i x_i) + b$$\n",
        "$$ ŷ = sigmoid(z) = \\frac{1}{1+e^{-z}}$$\n",
        "- The output ```y```, the probability of being positive, always falls into ```[0, 1]```\n",
        "- The update equation based on gradient descent is:\n",
        "$$ \\theta := \\theta - η∇L(ŷ, y)$$\n",
        "- ```L``` is the binary cross-entropy loss which can be defined as:\n",
        "$$ L_{CE}(ŷ,y) = -\\frac{1}{m} \\sum_{i=1}^m [ylog(ŷ) + (1-y)log(1-ŷ)]$$\n",
        "- The partial derivatives of ```L``` with respect to ```w``` and ```b``` are:\n",
        "$$ \\frac{∂L_{CE}(ŷ, y)}{∂w} = \\frac{1}{m}(ŷ-y)x_i^T$$\n",
        "$$ \\frac{∂L_{CE}(ŷ, y)}{∂b} = \\frac{1}{m}(ŷ-y)$$ \n",
        "\n",
        "\n",
        "## Stable sigmoid trick \n",
        "- The original sigmoid function becomes numerically unstable when ```z``` is a very small negative number. (Overflow)\n",
        "- This problem can be solved using the trick below:\n",
        "  - if ```z >= 0```\n",
        "$$ sigmod(z) = \\frac{1}{1+e^{-z}}$$ \n",
        "  - if ```z < 0```\n",
        "$$ sigmoid(z) = \\frac{e^z}{1+e^z}$$\n",
        "- Both of the equations are mathematically the same, so it will not change the value of the output."
      ],
      "metadata": {
        "id": "johP8utiO9AB"
      }
    },
    {
      "cell_type": "code",
      "execution_count": 9,
      "metadata": {
        "id": "wnh8Pb0eOxNO"
      },
      "outputs": [],
      "source": [
        "import numpy as np \n",
        "import math \n",
        "import pandas as pd \n",
        "from sklearn.model_selection import train_test_split\n",
        "from sklearn.datasets import load_breast_cancer"
      ]
    },
    {
      "cell_type": "markdown",
      "source": [
        "## 1) Prepare for dataset \n",
        "- We are going to use Breast [Breast cancer wisconsin (diagnostic) dataset text](https://scikit-learn.org/stable/datasets/toy_dataset.html#breast-cancer-wisconsin-diagnostic-dataset)\n",
        "- Load, normalize, and split the dataset "
      ],
      "metadata": {
        "id": "vFX5a8Ni6GWp"
      }
    },
    {
      "cell_type": "code",
      "source": [
        "def normalize(data: np.ndarray):\n",
        "  data = (data-np.mean(data, axis=0))/np.std(data, axis=0)\n",
        "  return data "
      ],
      "metadata": {
        "id": "KHQbQS6A6JfZ"
      },
      "execution_count": 7,
      "outputs": []
    },
    {
      "cell_type": "code",
      "source": [
        "dataset = load_breast_cancer() \n",
        "X = dataset['data']\n",
        "y = dataset['target']\n",
        "target_names = dataset['target_names']\n",
        "feature_names = dataset['feature_names']\n",
        "print(X.shape)\n",
        "print(y.shape)\n",
        "print(X[0])\n",
        "print(y[0])\n",
        "print(f'feature_names: {feature_names}')\n",
        "print(f'target_names: {target_names}')"
      ],
      "metadata": {
        "colab": {
          "base_uri": "https://localhost:8080/"
        },
        "id": "Hd8kfjt27JFJ",
        "outputId": "28b9b9ca-0827-4a3f-fa7d-319f533944e0"
      },
      "execution_count": 5,
      "outputs": [
        {
          "output_type": "stream",
          "name": "stdout",
          "text": [
            "(569, 30)\n",
            "(569,)\n",
            "[1.799e+01 1.038e+01 1.228e+02 1.001e+03 1.184e-01 2.776e-01 3.001e-01\n",
            " 1.471e-01 2.419e-01 7.871e-02 1.095e+00 9.053e-01 8.589e+00 1.534e+02\n",
            " 6.399e-03 4.904e-02 5.373e-02 1.587e-02 3.003e-02 6.193e-03 2.538e+01\n",
            " 1.733e+01 1.846e+02 2.019e+03 1.622e-01 6.656e-01 7.119e-01 2.654e-01\n",
            " 4.601e-01 1.189e-01]\n",
            "0\n",
            "feature_names: ['mean radius' 'mean texture' 'mean perimeter' 'mean area'\n",
            " 'mean smoothness' 'mean compactness' 'mean concavity'\n",
            " 'mean concave points' 'mean symmetry' 'mean fractal dimension'\n",
            " 'radius error' 'texture error' 'perimeter error' 'area error'\n",
            " 'smoothness error' 'compactness error' 'concavity error'\n",
            " 'concave points error' 'symmetry error' 'fractal dimension error'\n",
            " 'worst radius' 'worst texture' 'worst perimeter' 'worst area'\n",
            " 'worst smoothness' 'worst compactness' 'worst concavity'\n",
            " 'worst concave points' 'worst symmetry' 'worst fractal dimension']\n",
            "target_names: ['malignant' 'benign']\n"
          ]
        }
      ]
    },
    {
      "cell_type": "code",
      "source": [
        "X = normalize(X)\n",
        "train_X, test_X, train_y, test_y = train_test_split(X, y, test_size=0.2, random_state=42)\n",
        "print(train_X.shape)\n",
        "print(test_X.shape)\n",
        "print(train_X[0])"
      ],
      "metadata": {
        "colab": {
          "base_uri": "https://localhost:8080/"
        },
        "id": "arhvMgCy9Ktr",
        "outputId": "22634c66-e3c8-4f9e-ce1e-fea258daec30"
      },
      "execution_count": 8,
      "outputs": [
        {
          "output_type": "stream",
          "name": "stdout",
          "text": [
            "(455, 30)\n",
            "(114, 30)\n",
            "[-1.44798723 -0.45602336 -1.36665103 -1.15012411  0.72871411  0.70042803\n",
            "  2.81483311 -0.13333286  1.09302444  2.5038276  -0.28069568 -0.04146398\n",
            " -0.48565435 -0.49871449  0.83604093  3.38589232  9.01560288  3.47515764\n",
            "  2.594434    2.1802771  -1.2340441  -0.4929645  -1.24389273 -0.97719402\n",
            "  0.69398379  1.15926893  4.7006688   0.91959172  2.14719008  1.85943247]\n"
          ]
        }
      ]
    },
    {
      "cell_type": "markdown",
      "source": [
        "## 2) Implement stable Sigmod "
      ],
      "metadata": {
        "id": "zN3mmO5U_nVi"
      }
    },
    {
      "cell_type": "code",
      "source": [
        "def sigmoid(z: np.ndarray):\n",
        "  if z >= 0:\n",
        "    y = 1 / (1 + math.exp(-z))\n",
        "  else:\n",
        "    y = math.exp(z) / (1 + math.exp(z))\n",
        "  return y "
      ],
      "metadata": {
        "id": "FdaiT8DN_swg"
      },
      "execution_count": 10,
      "outputs": []
    },
    {
      "cell_type": "markdown",
      "source": [
        "## 3) Define Cross-Entroy Loss and Gradients "
      ],
      "metadata": {
        "id": "wLBcnns-ASRO"
      }
    },
    {
      "cell_type": "code",
      "source": [
        "EPS = 1e-9\n",
        "\n",
        "def cross_entropy(y_gt: np.ndarray, y_pred: np.ndarray):\n",
        "  num_samples = y_gt.shape[0]\n",
        "  loss = np.dot(y_gt, np.log(y_pred + EPS)) + np.dot((1 - y_gt), np.log(1 - y_pred + EPS))\n",
        "  loss /= num_samples \n",
        "  return loss \n",
        "\n",
        "def gradients_of_cross_entropy(x: np.ndarray, y_gt: np.ndarray, y_pred: np.ndarray):\n",
        "  aLaw = np.dot(y_pred - y_gt, x)\n",
        "  return \n"
      ],
      "metadata": {
        "id": "y7UwzP9fAZPy"
      },
      "execution_count": 11,
      "outputs": []
    },
    {
      "cell_type": "markdown",
      "source": [
        "## 4) Implement Logistic Regression "
      ],
      "metadata": {
        "id": "Vs2ArEU2BX09"
      }
    },
    {
      "cell_type": "code",
      "source": [
        "from typing import Callable\n",
        "\n",
        "class BinaryLogisticRegressor():\n",
        "  \n",
        "  def __init__(self, loss_fn: Callable, learning_rate: float):\n",
        "    self.loss_fn = loss_fn \n",
        "    self.lr = learning_rate \n",
        "    self.test_X = None \n",
        "    self.test_Y = None \n",
        "    self._initialize_model()\n",
        "\n",
        "  def fit(self, X, y, epochs):\n",
        "    pass\n",
        "    # for epoch in range(epochs):\n",
        "\n",
        "\n",
        "  def set_test_data(self):\n",
        "    pass \n",
        "  \n",
        "  def _get_gradients(self):\n",
        "    pass \n",
        "  \n",
        "  def _update_model(self):\n",
        "    pass \n",
        "  \n",
        "  def _initialize_model(self):\n",
        "    pass \n"
      ],
      "metadata": {
        "id": "f8-LL5wpBnH6"
      },
      "execution_count": null,
      "outputs": []
    },
    {
      "cell_type": "code",
      "source": [],
      "metadata": {
        "id": "Nd5SGD6MDsOx"
      },
      "execution_count": null,
      "outputs": []
    },
    {
      "cell_type": "markdown",
      "source": [
        "## References \n",
        "- https://developer.ibm.com/articles/implementing-logistic-regression-from-scratch-in-python/\n",
        "- https://timvieira.github.io/blog/post/2014/02/11/exp-normalize-trick/\n",
        "- https://web.stanford.edu/~jurafsky/slp3/5.pdf"
      ],
      "metadata": {
        "id": "kB04YD2ixtcD"
      }
    },
    {
      "cell_type": "code",
      "source": [],
      "metadata": {
        "id": "4bbvxS89x6Qn"
      },
      "execution_count": null,
      "outputs": []
    }
  ]
}