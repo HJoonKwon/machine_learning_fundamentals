{
 "cells": [
  {
   "cell_type": "markdown",
   "metadata": {
    "colab_type": "text",
    "id": "view-in-github"
   },
   "source": [
    "<a href=\"https://colab.research.google.com/github/HJoonKwon/ml_fundamentals/blob/main/BinaryLogisticRegressionClassifier.ipynb\" target=\"_parent\"><img src=\"https://colab.research.google.com/assets/colab-badge.svg\" alt=\"Open In Colab\"/></a>"
   ]
  },
  {
   "cell_type": "markdown",
   "metadata": {
    "id": "johP8utiO9AB"
   },
   "source": [
    "## Binary Logistic Regression \n",
    "- Supervised learning algorithm \n",
    "- Discriminative classifier\n",
    "- Use an activation function called logistic function or sigmod function \n",
    "- Minimize binary cross engropy loss \n",
    "  - There is no closed-form solution\n",
    "  - So, we should use gradient descent to find an optimal solution.\n",
    "\n",
    "## How does it work? \n",
    "- The network will predict the probability of the output being positive. \n",
    "- The output of the network looks like below:\n",
    "$$ z = (\\sum_{i=1}^n w_i x_i) + b$$\n",
    "$$ ŷ = sigmoid(z) = \\frac{1}{1+e^{-z}}$$\n",
    "- The output ```y```, the probability of being positive, always falls into ```[0, 1]```\n",
    "- The update equation based on gradient descent is:\n",
    "$$ \\theta := \\theta - η∇L(ŷ, y)$$\n",
    "- ```L``` is the binary cross-entropy loss which can be defined as:\n",
    "$$ L_{CE}(ŷ,y) = -\\frac{1}{m} \\sum_{i=1}^m [ylog(ŷ) + (1-y)log(1-ŷ)]$$\n",
    "- The partial derivatives of ```L``` with respect to ```w``` and ```b``` are:\n",
    "$$ \\frac{∂L_{CE}(ŷ, y)}{∂w} = \\frac{1}{m}(ŷ-y)x_i^T$$\n",
    "$$ \\frac{∂L_{CE}(ŷ, y)}{∂b} = \\frac{1}{m}(ŷ-y)1^T$$ \n",
    "\n",
    "\n",
    "## Newton's Method\n",
    "$$ \\theta := \\theta - H^{-1}\\nabla_{\\theta}J(\\theta) $$\n",
    "$$ H_{ij} =  \\frac{\\partial^2 J(\\theta)}{\\partial \\theta_i \\partial \\theta_j}$$\n",
    "## Stable sigmoid trick \n",
    "- The original sigmoid function becomes numerically unstable when ```z``` is a very small negative number. (Overflow)\n",
    "- This problem can be solved using the trick below:\n",
    "  - if ```z >= 0```\n",
    "$$ sigmod(z) = \\frac{1}{1+e^{-z}}$$ \n",
    "  - if ```z < 0```\n",
    "$$ sigmoid(z) = \\frac{e^z}{1+e^z}$$\n",
    "- Both of the equations are mathematically the same, so it will not change the value of the output."
   ]
  },
  {
   "cell_type": "code",
   "execution_count": 9,
   "metadata": {
    "id": "wnh8Pb0eOxNO"
   },
   "outputs": [],
   "source": [
    "import numpy as np \n",
    "import math \n",
    "import pandas as pd \n",
    "import matplotlib.pyplot as plt \n",
    "from sklearn.model_selection import train_test_split\n",
    "from sklearn.datasets import load_breast_cancer\n",
    "\n",
    "from ml_algorithms.logistic_regression import *"
   ]
  },
  {
   "cell_type": "code",
   "execution_count": 7,
   "metadata": {},
   "outputs": [],
   "source": [
    "%matplotlib inline\n",
    "plt.rcParams['figure.figsize'] = (5.0, 4.0) # set default size of plots\n",
    "plt.rcParams['image.interpolation'] = 'nearest'\n",
    "plt.rcParams['image.cmap'] = 'gray'\n",
    "\n",
    "%load_ext autoreload\n",
    "%autoreload 2\n",
    "\n",
    "np.random.seed(42)"
   ]
  },
  {
   "cell_type": "markdown",
   "metadata": {
    "id": "vFX5a8Ni6GWp"
   },
   "source": [
    "## 1) Prepare for dataset \n",
    "- We are going to use Breast [Breast cancer wisconsin (diagnostic) dataset text](https://scikit-learn.org/stable/datasets/toy_dataset.html#breast-cancer-wisconsin-diagnostic-dataset)\n",
    "- Load, normalize, and split the dataset "
   ]
  },
  {
   "cell_type": "code",
   "execution_count": 2,
   "metadata": {
    "id": "KHQbQS6A6JfZ"
   },
   "outputs": [],
   "source": [
    "def normalize(data: np.ndarray):\n",
    "    data = (data-np.mean(data, axis=0))/np.std(data, axis=0)\n",
    "    return data "
   ]
  },
  {
   "cell_type": "code",
   "execution_count": 65,
   "metadata": {
    "colab": {
     "base_uri": "https://localhost:8080/"
    },
    "id": "Hd8kfjt27JFJ",
    "outputId": "9484c419-e82d-4ce3-fdd4-e13f9b31278f"
   },
   "outputs": [
    {
     "name": "stdout",
     "output_type": "stream",
     "text": [
      "feature_names: ['mean radius' 'mean texture' 'mean perimeter' 'mean area'\n",
      " 'mean smoothness' 'mean compactness' 'mean concavity'\n",
      " 'mean concave points' 'mean symmetry' 'mean fractal dimension'\n",
      " 'radius error' 'texture error' 'perimeter error' 'area error'\n",
      " 'smoothness error' 'compactness error' 'concavity error'\n",
      " 'concave points error' 'symmetry error' 'fractal dimension error'\n",
      " 'worst radius' 'worst texture' 'worst perimeter' 'worst area'\n",
      " 'worst smoothness' 'worst compactness' 'worst concavity'\n",
      " 'worst concave points' 'worst symmetry' 'worst fractal dimension']\n",
      "target_names: ['malignant' 'benign']\n"
     ]
    }
   ],
   "source": [
    "dataset = load_breast_cancer() \n",
    "X = dataset['data']\n",
    "y = dataset['target']\n",
    "target_names = dataset['target_names']\n",
    "feature_names = dataset['feature_names']\n",
    "print(f'feature_names: {feature_names}')\n",
    "print(f'target_names: {target_names}')"
   ]
  },
  {
   "cell_type": "code",
   "execution_count": 66,
   "metadata": {
    "colab": {
     "base_uri": "https://localhost:8080/"
    },
    "id": "arhvMgCy9Ktr",
    "outputId": "3af2f262-3e1d-443a-b985-cf15a99eb113",
    "tags": []
   },
   "outputs": [
    {
     "name": "stdout",
     "output_type": "stream",
     "text": [
      "train_X: (30, 455)\n",
      "train_y: (1, 455)\n",
      "test_X: (30, 114)\n",
      "test_y: (1, 114)\n"
     ]
    }
   ],
   "source": [
    "X = normalize(X)\n",
    "train_X, test_X, train_y, test_y = train_test_split(X, y, test_size=0.2, random_state=42)\n",
    "train_X = train_X.T\n",
    "train_y = train_y.reshape(1, -1)\n",
    "test_X = test_X.T \n",
    "test_y = test_y.reshape(1, -1)\n",
    "print(f'train_X: {train_X.shape}')\n",
    "print(f'train_y: {train_y.shape}')\n",
    "print(f'test_X: {test_X.shape}')\n",
    "print(f'test_y: {test_y.shape}')"
   ]
  },
  {
   "cell_type": "markdown",
   "metadata": {
    "id": "Vs2ArEU2BX09"
   },
   "source": [
    "## 2) Implement Logistic Regression "
   ]
  },
  {
   "cell_type": "code",
   "execution_count": 48,
   "metadata": {},
   "outputs": [
    {
     "name": "stdout",
     "output_type": "stream",
     "text": [
      "class LogisticRegression():\n",
      "    def __init__(self):\n",
      "        self.train_X: np.ndarray\n",
      "        self.train_Y: np.ndarray\n",
      "        self.W: np.ndarray\n",
      "        self.b: np.ndarray\n",
      "\n",
      "    def fit(self, X: np.ndarray, Y: np.ndarray, learning_rate: float,\n",
      "            iterations: int):\n",
      "\n",
      "        self.train_X = X\n",
      "        self.train_Y = Y\n",
      "        self.W = np.zeros((self.train_Y.shape[0], self.train_X.shape[0]))\n",
      "        self.b = np.zeros((self.train_Y.shape[0], 1))\n",
      "\n",
      "        costs = []\n",
      "        for iter in range(iterations):\n",
      "            Z = self.linear_forward(self.train_X)\n",
      "            Y_hat = self.sigmoid(Z)\n",
      "            cost = self.cost(Y_hat, self.train_Y)\n",
      "            gradients = self.gradients(Y_hat)\n",
      "            self.update_parameters(gradients, learning_rate)\n",
      "            costs.append(cost)\n",
      "            if iter % 50 == 0 and iter != 0:\n",
      "                print(f\"cost @ iter{iter}= {cost}\")\n",
      "\n",
      "        return costs\n",
      "\n",
      "    def predict(self, X: np.ndarray) -> np.ndarray:\n",
      "        Z = self.linear_forward(X)\n",
      "        Y_hat = self.sigmoid(Z)\n",
      "        preds = Y_hat[Y_hat >= 0.5]\n",
      "        return preds\n",
      "\n",
      "    def gradients(self, Y_hat: np.ndarray) -> tuple[np.ndarray, ...]:\n",
      "        dY_hat = self.cost_backward(Y_hat, self.train_Y)\n",
      "        dZ = self.sigmoid_backward(Y_hat, dY_hat)\n",
      "        dW, db = self.linear_backward(self.train_X, dZ)\n",
      "        return (dW, db)\n",
      "\n",
      "    def update_parameters(self, gradients: tuple[np.ndarray, np.ndarray],\n",
      "                          learning_rate: float) -> None:\n",
      "        dW, db = gradients\n",
      "\n",
      "        self.W -= learning_rate * dW\n",
      "        self.b -= learning_rate * db\n",
      "\n",
      "    def cost(self, Y_hat: np.ndarray, Y: np.ndarray) -> np.ndarray:\n",
      "        m = Y.shape[1]\n",
      "        cross_entropy = -1 / m * (Y @ np.log(Y_hat).T +\n",
      "                                  (1 - Y) @ np.log(1 - Y_hat).T)\n",
      "        return np.squeeze(cross_entropy)\n",
      "\n",
      "    def cost_backward(self, Y_hat: np.ndarray, Y: np.ndarray) -> np.ndarray:\n",
      "        dY_hat = -np.divide(Y, Y_hat) + np.divide(1 - Y, 1 - Y_hat)\n",
      "        return dY_hat\n",
      "\n",
      "    def linear_forward(self, X: np.ndarray) -> np.ndarray:\n",
      "        Z = self.W @ X + self.b\n",
      "        return Z\n",
      "\n",
      "    def linear_backward(self, X: np.ndarray,\n",
      "                        dZ: np.ndarray) -> tuple[np.ndarray, ...]:\n",
      "        m = X.shape[1]\n",
      "        dW = 1 / m * dZ @ X.T\n",
      "        db = 1 / m * np.sum(dZ, axis=1, keepdims=True)\n",
      "        return (dW, db)\n",
      "\n",
      "    def sigmoid(self, Z: np.ndarray) -> np.ndarray:\n",
      "        Y_hat = 1 / (1 + np.exp(-Z))\n",
      "        return Y_hat\n",
      "\n",
      "    def sigmoid_backward(self, Y_hat: np.ndarray,\n",
      "                         dY_hat: np.ndarray) -> np.ndarray:\n",
      "        dZ = dY_hat * Y_hat * (1 - Y_hat)\n",
      "        return dZ\n",
      "\n"
     ]
    }
   ],
   "source": [
    "import inspect\n",
    "lines = inspect.getsource(LogisticRegression)\n",
    "print(lines)"
   ]
  },
  {
   "cell_type": "markdown",
   "metadata": {},
   "source": [
    "## 3) Test the algorithm"
   ]
  },
  {
   "cell_type": "code",
   "execution_count": 45,
   "metadata": {},
   "outputs": [],
   "source": [
    "learning_rate = 0.1\n",
    "iterations = 500"
   ]
  },
  {
   "cell_type": "code",
   "execution_count": 46,
   "metadata": {},
   "outputs": [
    {
     "name": "stdout",
     "output_type": "stream",
     "text": [
      "cost @ iter50= 0.13258488785653577\n",
      "cost @ iter100= 0.10573618627582446\n",
      "cost @ iter150= 0.0939552345469794\n",
      "cost @ iter200= 0.08695358036356038\n",
      "cost @ iter250= 0.08217260393814141\n",
      "cost @ iter300= 0.07863132509383393\n",
      "cost @ iter350= 0.0758636582347195\n",
      "cost @ iter400= 0.07361682746896966\n",
      "cost @ iter450= 0.07174063697889288\n"
     ]
    }
   ],
   "source": [
    "model = LogisticRegression()\n",
    "costs = model.fit(train_X, train_y, learning_rate=learning_rate, iterations=iterations)"
   ]
  },
  {
   "cell_type": "code",
   "execution_count": 64,
   "metadata": {},
   "outputs": [
    {
     "name": "stdout",
     "output_type": "stream",
     "text": [
      "accuracy on testset is 0.9824561403508771\n"
     ]
    }
   ],
   "source": [
    "preds = model.predict(test_X)\n",
    "accuracy = np.sum(preds==test_y)/preds.shape[1]\n",
    "print(f'accuracy on testset is {accuracy}')"
   ]
  },
  {
   "cell_type": "code",
   "execution_count": 63,
   "metadata": {
    "colab": {
     "base_uri": "https://localhost:8080/",
     "height": 282
    },
    "id": "DRwN7kadLegD",
    "outputId": "e7fc5597-ad35-4be1-94bd-5dca36ce5bf4"
   },
   "outputs": [
    {
     "data": {
      "text/plain": [
       "<matplotlib.legend.Legend at 0x7fd40e8cbdf0>"
      ]
     },
     "execution_count": 63,
     "metadata": {},
     "output_type": "execute_result"
    },
    {
     "data": {
      "image/png": "[encoded data removed]",
      "text/plain": [
       "<Figure size 500x400 with 1 Axes>"
      ]
     },
     "metadata": {},
     "output_type": "display_data"
    }
   ],
   "source": [
    "import matplotlib.pyplot as plt\n",
    "\n",
    "plt.figure() \n",
    "plt.plot(range(iterations), costs, label='train_loss')\n",
    "plt.legend()"
   ]
  },
  {
   "cell_type": "markdown",
   "metadata": {
    "id": "kB04YD2ixtcD"
   },
   "source": [
    "## References \n",
    "- https://developer.ibm.com/articles/implementing-logistic-regression-from-scratch-in-python/\n",
    "- https://timvieira.github.io/blog/post/2014/02/11/exp-normalize-trick/\n",
    "- https://web.stanford.edu/~jurafsky/slp3/5.pdf"
   ]
  },
  {
   "cell_type": "code",
   "execution_count": 7,
   "metadata": {
    "id": "4bbvxS89x6Qn"
   },
   "outputs": [],
   "source": []
  }
 ],
 "metadata": {
  "colab": {
   "authorship_tag": "ABX9TyNLA7ID19D95w46TnjKiGSb",
   "include_colab_link": true,
   "provenance": []
  },
  "kernelspec": {
   "display_name": "Python 3 (ipykernel)",
   "language": "python",
   "name": "python3"
  },
  "language_info": {
   "codemirror_mode": {
    "name": "ipython",
    "version": 3
   },
   "file_extension": ".py",
   "mimetype": "text/x-python",
   "name": "python",
   "nbconvert_exporter": "python",
   "pygments_lexer": "ipython3",
   "version": "3.10.8"
  }
 },
 "nbformat": 4,
 "nbformat_minor": 4
}
