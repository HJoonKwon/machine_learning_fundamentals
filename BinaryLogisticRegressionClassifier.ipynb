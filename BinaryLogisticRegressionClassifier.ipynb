{
  "nbformat": 4,
  "nbformat_minor": 0,
  "metadata": {
    "colab": {
      "provenance": [],
      "authorship_tag": "ABX9TyNLA7ID19D95w46TnjKiGSb",
      "include_colab_link": true
    },
    "kernelspec": {
      "name": "python3",
      "display_name": "Python 3"
    },
    "language_info": {
      "name": "python"
    }
  },
  "cells": [
    {
      "cell_type": "markdown",
      "metadata": {
        "id": "view-in-github",
        "colab_type": "text"
      },
      "source": [
        "<a href=\"https://colab.research.google.com/github/HJoonKwon/ml_fundamentals/blob/main/BinaryLogisticRegressionClassifier.ipynb\" target=\"_parent\"><img src=\"https://colab.research.google.com/assets/colab-badge.svg\" alt=\"Open In Colab\"/></a>"
      ]
    },
    {
      "cell_type": "markdown",
      "source": [
        "## Binary Logistic Regression \n",
        "- Supervised learning algorithm \n",
        "- Discriminative classifier\n",
        "- Use an activation function called logistic function or sigmod function \n",
        "- Minimize binary cross engropy loss \n",
        "  - There is no closed-form solution\n",
        "  - So, we should use gradient descent to find an optimal solution.\n",
        "\n",
        "## How does it work? \n",
        "- The network will predict the probability of the output being positive. \n",
        "- The output of the network looks like below:\n",
        "$$ z = (\\sum_{i=1}^n w_i x_i) + b$$\n",
        "$$ ŷ = sigmoid(z) = \\frac{1}{1+e^{-z}}$$\n",
        "- The output ```y```, the probability of being positive, always falls into ```[0, 1]```\n",
        "- The update equation based on gradient descent is:\n",
        "$$ \\theta := \\theta - η∇L(ŷ, y)$$\n",
        "- ```L``` is the binary cross-entropy loss which can be defined as:\n",
        "$$ L_{CE}(ŷ,y) = -\\frac{1}{m} \\sum_{i=1}^m [ylog(ŷ) + (1-y)log(1-ŷ)]$$\n",
        "- The partial derivatives of ```L``` with respect to ```w``` and ```b``` are:\n",
        "$$ \\frac{∂L_{CE}(ŷ, y)}{∂w} = \\frac{1}{m}(ŷ-y)x_i^T$$\n",
        "$$ \\frac{∂L_{CE}(ŷ, y)}{∂b} = \\frac{1}{m}(ŷ-y)1^T$$ \n",
        "\n",
        "\n",
        "## Stable sigmoid trick \n",
        "- The original sigmoid function becomes numerically unstable when ```z``` is a very small negative number. (Overflow)\n",
        "- This problem can be solved using the trick below:\n",
        "  - if ```z >= 0```\n",
        "$$ sigmod(z) = \\frac{1}{1+e^{-z}}$$ \n",
        "  - if ```z < 0```\n",
        "$$ sigmoid(z) = \\frac{e^z}{1+e^z}$$\n",
        "- Both of the equations are mathematically the same, so it will not change the value of the output."
      ],
      "metadata": {
        "id": "johP8utiO9AB"
      }
    },
    {
      "cell_type": "code",
      "execution_count": 1,
      "metadata": {
        "id": "wnh8Pb0eOxNO"
      },
      "outputs": [],
      "source": [
        "import numpy as np \n",
        "import math \n",
        "import pandas as pd \n",
        "from sklearn.model_selection import train_test_split\n",
        "from sklearn.datasets import load_breast_cancer"
      ]
    },
    {
      "cell_type": "markdown",
      "source": [
        "## 1) Prepare for dataset \n",
        "- We are going to use Breast [Breast cancer wisconsin (diagnostic) dataset text](https://scikit-learn.org/stable/datasets/toy_dataset.html#breast-cancer-wisconsin-diagnostic-dataset)\n",
        "- Load, normalize, and split the dataset "
      ],
      "metadata": {
        "id": "vFX5a8Ni6GWp"
      }
    },
    {
      "cell_type": "code",
      "source": [
        "def normalize(data: np.ndarray):\n",
        "  data = (data-np.mean(data, axis=0))/np.std(data, axis=0)\n",
        "  return data "
      ],
      "metadata": {
        "id": "KHQbQS6A6JfZ"
      },
      "execution_count": 2,
      "outputs": []
    },
    {
      "cell_type": "code",
      "source": [
        "dataset = load_breast_cancer() \n",
        "X = dataset['data']\n",
        "y = dataset['target']\n",
        "target_names = dataset['target_names']\n",
        "feature_names = dataset['feature_names']\n",
        "print(X.shape)\n",
        "print(y.shape)\n",
        "print(X[0])\n",
        "print(y[0])\n",
        "print(f'feature_names: {feature_names}')\n",
        "print(f'target_names: {target_names}')"
      ],
      "metadata": {
        "colab": {
          "base_uri": "https://localhost:8080/"
        },
        "id": "Hd8kfjt27JFJ",
        "outputId": "9484c419-e82d-4ce3-fdd4-e13f9b31278f"
      },
      "execution_count": 3,
      "outputs": [
        {
          "output_type": "stream",
          "name": "stdout",
          "text": [
            "(569, 30)\n",
            "(569,)\n",
            "[1.799e+01 1.038e+01 1.228e+02 1.001e+03 1.184e-01 2.776e-01 3.001e-01\n",
            " 1.471e-01 2.419e-01 7.871e-02 1.095e+00 9.053e-01 8.589e+00 1.534e+02\n",
            " 6.399e-03 4.904e-02 5.373e-02 1.587e-02 3.003e-02 6.193e-03 2.538e+01\n",
            " 1.733e+01 1.846e+02 2.019e+03 1.622e-01 6.656e-01 7.119e-01 2.654e-01\n",
            " 4.601e-01 1.189e-01]\n",
            "0\n",
            "feature_names: ['mean radius' 'mean texture' 'mean perimeter' 'mean area'\n",
            " 'mean smoothness' 'mean compactness' 'mean concavity'\n",
            " 'mean concave points' 'mean symmetry' 'mean fractal dimension'\n",
            " 'radius error' 'texture error' 'perimeter error' 'area error'\n",
            " 'smoothness error' 'compactness error' 'concavity error'\n",
            " 'concave points error' 'symmetry error' 'fractal dimension error'\n",
            " 'worst radius' 'worst texture' 'worst perimeter' 'worst area'\n",
            " 'worst smoothness' 'worst compactness' 'worst concavity'\n",
            " 'worst concave points' 'worst symmetry' 'worst fractal dimension']\n",
            "target_names: ['malignant' 'benign']\n"
          ]
        }
      ]
    },
    {
      "cell_type": "code",
      "source": [
        "X = normalize(X)\n",
        "train_X, test_X, train_y, test_y = train_test_split(X, y, test_size=0.2, random_state=42)\n",
        "print(train_X.shape)\n",
        "print(test_X.shape)\n",
        "print(test_y.shape)\n",
        "print(train_X[0])"
      ],
      "metadata": {
        "colab": {
          "base_uri": "https://localhost:8080/"
        },
        "id": "arhvMgCy9Ktr",
        "outputId": "3af2f262-3e1d-443a-b985-cf15a99eb113"
      },
      "execution_count": 8,
      "outputs": [
        {
          "output_type": "stream",
          "name": "stdout",
          "text": [
            "(455, 30)\n",
            "(114, 30)\n",
            "(114,)\n",
            "[-1.44798723 -0.45602336 -1.36665103 -1.15012411  0.72871411  0.70042803\n",
            "  2.81483311 -0.13333286  1.09302444  2.5038276  -0.28069568 -0.04146398\n",
            " -0.48565435 -0.49871449  0.83604093  3.38589232  9.01560288  3.47515764\n",
            "  2.594434    2.1802771  -1.2340441  -0.4929645  -1.24389273 -0.97719402\n",
            "  0.69398379  1.15926893  4.7006688   0.91959172  2.14719008  1.85943247]\n"
          ]
        }
      ]
    },
    {
      "cell_type": "markdown",
      "source": [
        "## 2) Implement stable Sigmod "
      ],
      "metadata": {
        "id": "zN3mmO5U_nVi"
      }
    },
    {
      "cell_type": "code",
      "source": [
        "def sigmoid(z):\n",
        "  if z >= 0:\n",
        "    y = 1 / (1 + math.exp(-z))\n",
        "  else:\n",
        "    y = math.exp(z) / (1 + math.exp(z))\n",
        "  return y "
      ],
      "metadata": {
        "id": "FdaiT8DN_swg"
      },
      "execution_count": 21,
      "outputs": []
    },
    {
      "cell_type": "markdown",
      "source": [
        "## 3) Define Cross-Entroy Loss and Gradients "
      ],
      "metadata": {
        "id": "wLBcnns-ASRO"
      }
    },
    {
      "cell_type": "code",
      "source": [
        "EPS = 1e-9\n",
        "\n",
        "def cross_entropy(y_gt: np.ndarray, y_pred: np.ndarray):\n",
        "  num_samples = y_gt.shape[0]\n",
        "  loss = y_gt * np.log(y_pred + EPS) + (1 - y_gt) * np.log(1 - y_pred + EPS)\n",
        "  loss = -np.mean(loss)\n",
        "  return loss \n",
        "\n",
        "def gradients_of_cross_entropy(x: np.ndarray, y_gt: np.ndarray, y_pred: np.ndarray):\n",
        "  diff = y_pred - y_gt\n",
        "  diff = diff[:, None]\n",
        "  grad_weights = np.matmul(x.transpose(), diff) / x.shape[0] # (nxm) * (mx1) = (nx1) \n",
        "  grad_bias = np.mean(diff)\n",
        "  return grad_weights, grad_bias \n"
      ],
      "metadata": {
        "id": "y7UwzP9fAZPy"
      },
      "execution_count": 31,
      "outputs": []
    },
    {
      "cell_type": "markdown",
      "source": [
        "## 4) Implement Logistic Regression "
      ],
      "metadata": {
        "id": "Vs2ArEU2BX09"
      }
    },
    {
      "cell_type": "code",
      "source": [
        "from typing import Callable\n",
        "\n",
        "class BinaryLogisticRegressor():\n",
        "  \n",
        "  def __init__(self, learning_rate: float = 0.1):\n",
        "    self.lr = learning_rate \n",
        "    self.test_X = None \n",
        "    self.test_Y = None \n",
        "    self.weights = None \n",
        "    self.bias = None \n",
        "    self.train_loss = [] \n",
        "    self.test_loss = [] \n",
        "\n",
        "  def fit(self, X, y, epochs):\n",
        "    self._initialize_model(X)\n",
        "    for epoch in range(epochs):\n",
        "      z = np.matmul(X, self.weights) + self.bias # (mxn) * (nx1) = (mx1)\n",
        "      pred = self._sigmoid(z)\n",
        "      assert y.shape == pred.shape, print(y.shape, pred.shape)\n",
        "      loss = cross_entropy(y, pred)\n",
        "      grad_w, grad_b = self._calculate_gradients(X, y, pred)\n",
        "      self._update_model(grad_w, grad_b)\n",
        "      self.train_loss.append(loss)\n",
        "\n",
        "      # test set \n",
        "      z = np.matmul(self.test_X, self.weights) + self.bias \n",
        "      pred = self._sigmoid(z)\n",
        "      assert self.test_y.shape == pred.shape \n",
        "      loss = cross_entropy(self.test_y, pred)\n",
        "      self.test_loss.append(loss)\n",
        "\n",
        "      if epoch % 5 == 0:\n",
        "        print(f\"epoch{epoch}: train_loss: {self.train_loss[-1]}\")\n",
        "        print(f\"epoch{epoch}: test_loss: {self.test_loss[-1]}\")\n",
        "\n",
        "    \n",
        "  def predict(self, X):\n",
        "    z = np.matmul(X, self.weights) + self.bias\n",
        "    pred = self._sigmoid(z)\n",
        "    pred = np.array([1 if p > 0.5 else 0 for p in pred])\n",
        "    return pred \n",
        "  \n",
        "  def evaluate(self, pred, y):\n",
        "    assert pred.shape == y.shape\n",
        "    acc = sum(pred==y)/len(y)\n",
        "    return acc \n",
        "\n",
        "  def set_test_data(self, test_X, test_y):\n",
        "    self.test_X = test_X \n",
        "    self.test_y = test_y \n",
        "  \n",
        "  def _calculate_gradients(self, X, y, pred):\n",
        "    return gradients_of_cross_entropy(X, y, pred)\n",
        "  \n",
        "  def _update_model(self, grad_w, grad_b):\n",
        "    self.weights -= self.lr * grad_w\n",
        "    self.bias -= self.lr * grad_b \n",
        "  \n",
        "  def _initialize_model(self, X):\n",
        "    self.weights = np.zeros((X.shape[1], 1))\n",
        "    self.bias = 0 \n",
        "  \n",
        "  def _sigmoid(self, z: np.ndarray):\n",
        "    return np.array([sigmoid(ele) for ele in z])\n"
      ],
      "metadata": {
        "id": "f8-LL5wpBnH6"
      },
      "execution_count": 36,
      "outputs": []
    },
    {
      "cell_type": "code",
      "source": [
        "epochs = 50 \n",
        "binary_logistic_regressor = BinaryLogisticRegressor()\n",
        "binary_logistic_regressor.set_test_data(test_X, test_y)\n",
        "binary_logistic_regressor.fit(train_X, train_y, epochs)\n",
        "pred = binary_logistic_regressor.predict(test_X)\n",
        "acc = binary_logistic_regressor.evaluate(pred, test_y)\n",
        "print(f\"test acc is {acc}\")\n"
      ],
      "metadata": {
        "id": "Nd5SGD6MDsOx",
        "colab": {
          "base_uri": "https://localhost:8080/"
        },
        "outputId": "d4c06134-92c1-4216-918d-21459b0fa115"
      },
      "execution_count": 40,
      "outputs": [
        {
          "output_type": "stream",
          "name": "stdout",
          "text": [
            "epoch0: train_loss: 0.6931471785599452\n",
            "epoch0: test_loss: 0.5174830195071337\n",
            "epoch5: train_loss: 0.3215512990373032\n",
            "epoch5: test_loss: 0.28288541825697944\n",
            "epoch10: train_loss: 0.24578979756220853\n",
            "epoch10: test_loss: 0.21823121994599315\n",
            "epoch15: train_loss: 0.20915066080985506\n",
            "epoch15: test_loss: 0.18520510932581902\n",
            "epoch20: train_loss: 0.18663397651033933\n",
            "epoch20: test_loss: 0.16445860448396513\n",
            "epoch25: train_loss: 0.1711020300952463\n",
            "epoch25: test_loss: 0.14995551774562701\n",
            "epoch30: train_loss: 0.15960967374191515\n",
            "epoch30: test_loss: 0.13912983436308618\n",
            "epoch35: train_loss: 0.15068757855493498\n",
            "epoch35: test_loss: 0.1306822636866457\n",
            "epoch40: train_loss: 0.14351272318582992\n",
            "epoch40: test_loss: 0.12387515917407464\n",
            "epoch45: train_loss: 0.13758573018232328\n",
            "epoch45: test_loss: 0.11825448654064126\n",
            "test acc is 0.9824561403508771\n"
          ]
        }
      ]
    },
    {
      "cell_type": "code",
      "source": [
        "import matplotlib.pyplot as plt\n",
        "\n",
        "plt.figure() \n",
        "plt.plot(range(epochs), binary_logistic_regressor.train_loss, label='train_loss')\n",
        "plt.plot(range(epochs), binary_logistic_regressor.test_loss, label='test_loss')\n",
        "plt.legend()"
      ],
      "metadata": {
        "colab": {
          "base_uri": "https://localhost:8080/",
          "height": 282
        },
        "id": "DRwN7kadLegD",
        "outputId": "e7fc5597-ad35-4be1-94bd-5dca36ce5bf4"
      },
      "execution_count": 41,
      "outputs": [
        {
          "output_type": "execute_result",
          "data": {
            "text/plain": [
              "<matplotlib.legend.Legend at 0x7f4825f53430>"
            ]
          },
          "metadata": {},
          "execution_count": 41
        },
        {
          "output_type": "display_data",
          "data": {
            "text/plain": [
              "<Figure size 432x288 with 1 Axes>"
            ],
            "image/png": "[encoded data removed]"
          },
          "metadata": {
            "needs_background": "light"
          }
        }
      ]
    },
    {
      "cell_type": "markdown",
      "source": [
        "## References \n",
        "- https://developer.ibm.com/articles/implementing-logistic-regression-from-scratch-in-python/\n",
        "- https://timvieira.github.io/blog/post/2014/02/11/exp-normalize-trick/\n",
        "- https://web.stanford.edu/~jurafsky/slp3/5.pdf"
      ],
      "metadata": {
        "id": "kB04YD2ixtcD"
      }
    },
    {
      "cell_type": "code",
      "source": [],
      "metadata": {
        "id": "4bbvxS89x6Qn"
      },
      "execution_count": 7,
      "outputs": []
    }
  ]
}