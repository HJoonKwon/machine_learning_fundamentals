{
  "nbformat": 4,
  "nbformat_minor": 0,
  "metadata": {
    "colab": {
      "provenance": [],
      "authorship_tag": "ABX9TyNJiPcKuFDITE9u+TIqgsme",
      "include_colab_link": true
    },
    "kernelspec": {
      "name": "python3",
      "display_name": "Python 3"
    },
    "language_info": {
      "name": "python"
    }
  },
  "cells": [
    {
      "cell_type": "markdown",
      "metadata": {
        "id": "view-in-github",
        "colab_type": "text"
      },
      "source": [
        "<a href=\"https://colab.research.google.com/github/HJoonKwon/ml_fundamentals/blob/main/K_Means_Clustering.ipynb\" target=\"_parent\"><img src=\"https://colab.research.google.com/assets/colab-badge.svg\" alt=\"Open In Colab\"/></a>"
      ]
    },
    {
      "cell_type": "markdown",
      "source": [
        "## K-Means Clustring Algorithm \n",
        "- An unsupervised learning algorithm (no dependent variables, only independent ones)\n",
        "\n",
        "### What does it do?\n",
        "- Segment the data points into K number of clusters\n",
        "\n",
        "\n",
        "### How does it work?\n",
        "1. Initially randomly select K centroids and each centroid form a cluster.\n",
        "2. Assign all the data points to the closest clusters\n",
        "3. Update the centroids to the mean of the assigned data points. \n",
        "4. Iterate from 2-4 until the maximum number of iterations is reached or the centroids converge. "
      ],
      "metadata": {
        "id": "mLVeYx4r3MXO"
      }
    },
    {
      "cell_type": "code",
      "source": [
        "import seaborn as sns\n",
        "from sklearn.datasets import make_blobs \n",
        "import matplotlib.pyplot as plt \n",
        "from sklearn.preprocessing import StandardScaler "
      ],
      "metadata": {
        "id": "Zy1mBJ3P5Qcr"
      },
      "execution_count": 1,
      "outputs": []
    },
    {
      "cell_type": "markdown",
      "source": [
        "### 1) Create the dataset\n",
        "- We do not need labels, but let us define ```y_train``` to evaluate the algorithm later."
      ],
      "metadata": {
        "id": "fN4AdF_s5KMV"
      }
    },
    {
      "cell_type": "code",
      "execution_count": 4,
      "metadata": {
        "colab": {
          "base_uri": "https://localhost:8080/"
        },
        "id": "R64smzdzxGLA",
        "outputId": "11e6d29f-e285-4b8f-ab1c-45e7c7f7b96d"
      },
      "outputs": [
        {
          "output_type": "stream",
          "name": "stdout",
          "text": [
            "(100, 2)\n",
            "(100,)\n",
            "[-6.2927701  -4.68965397]\n",
            "2\n"
          ]
        }
      ],
      "source": [
        "X_train, y_train = make_blobs(n_samples=100, centers=5, random_state=42)\n",
        "print(X_train.shape)\n",
        "print(y_train.shape)\n",
        "print(X_train[0])\n",
        "print(y_train[0])"
      ]
    },
    {
      "cell_type": "markdown",
      "source": [
        "### 2) Preprocess the data"
      ],
      "metadata": {
        "id": "IIy191eR6IT-"
      }
    },
    {
      "cell_type": "code",
      "source": [
        "scaler = StandardScaler()\n",
        "X_train = scaler.fit_transform(X_train)"
      ],
      "metadata": {
        "id": "g-qFQX-16F1J"
      },
      "execution_count": 5,
      "outputs": []
    },
    {
      "cell_type": "markdown",
      "source": [
        "### 3) Visualize the data "
      ],
      "metadata": {
        "id": "rIgXLtZB6VWN"
      }
    },
    {
      "cell_type": "code",
      "source": [
        "sns.scatterplot(x=[X[0] for X in X_train],\n",
        "                y=[X[1] for X in X_train],\n",
        "                hue=y_train,\n",
        "                palette='deep',\n",
        "                legend=None)\n",
        "\n",
        "plt.xlabel('x')\n",
        "plt.ylabel('y')\n",
        "plt.show()"
      ],
      "metadata": {
        "colab": {
          "base_uri": "https://localhost:8080/",
          "height": 280
        },
        "id": "Bc2ea5bB6XOp",
        "outputId": "38118c0c-ce6a-4ad5-bba7-74f17af01dd5"
      },
      "execution_count": 6,
      "outputs": [
        {
          "output_type": "display_data",
          "data": {
            "text/plain": [
              "<Figure size 432x288 with 1 Axes>"
            ],
            "image/png": "[encoded data removed]"
          },
          "metadata": {
            "needs_background": "light"
          }
        }
      ]
    },
    {
      "cell_type": "markdown",
      "source": [
        "### 4) Define helper functions "
      ],
      "metadata": {
        "id": "SXHNC5hm6rs9"
      }
    },
    {
      "cell_type": "code",
      "source": [
        "def euclidean(point, centroids):\n",
        "  '''Returns Euclidean distances between a point and centroids'''"
      ],
      "metadata": {
        "id": "QQruX95y6uz7"
      },
      "execution_count": 7,
      "outputs": []
    },
    {
      "cell_type": "code",
      "source": [],
      "metadata": {
        "id": "IRhY1q187G1w"
      },
      "execution_count": null,
      "outputs": []
    },
    {
      "cell_type": "markdown",
      "source": [
        "## References\n",
        "- https://towardsdatascience.com/create-your-own-k-means-clustering-algorithm-in-python-d7d4c9077670\n"
      ],
      "metadata": {
        "id": "fHffYwME3IHt"
      }
    },
    {
      "cell_type": "code",
      "source": [],
      "metadata": {
        "id": "nE2Vv6Sk3K14"
      },
      "execution_count": null,
      "outputs": []
    }
  ]
}