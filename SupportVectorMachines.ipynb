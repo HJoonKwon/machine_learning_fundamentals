{
  "nbformat": 4,
  "nbformat_minor": 0,
  "metadata": {
    "colab": {
      "provenance": [],
      "authorship_tag": "ABX9TyO5pLi287G45WjBvHiDu4Sg",
      "include_colab_link": true
    },
    "kernelspec": {
      "name": "python3",
      "display_name": "Python 3"
    },
    "language_info": {
      "name": "python"
    }
  },
  "cells": [
    {
      "cell_type": "markdown",
      "metadata": {
        "id": "view-in-github",
        "colab_type": "text"
      },
      "source": [
        "<a href=\"https://colab.research.google.com/github/HJoonKwon/ml_fundamentals/blob/main/SupportVectorMachines.ipynb\" target=\"_parent\"><img src=\"https://colab.research.google.com/assets/colab-badge.svg\" alt=\"Open In Colab\"/></a>"
      ]
    },
    {
      "cell_type": "code",
      "execution_count": 6,
      "metadata": {
        "id": "BL8v_b-IjWXO"
      },
      "outputs": [],
      "source": [
        "import numpy as np \n",
        "from sklearn import datasets \n",
        "from sklearn.model_selection import train_test_split"
      ]
    },
    {
      "cell_type": "code",
      "source": [
        "def normalize(x):\n",
        "  x = (x-np.mean(x, axis=0))/np.std(x, axis=0)\n",
        "  return x "
      ],
      "metadata": {
        "id": "YI4IINgWDIVw"
      },
      "execution_count": 8,
      "outputs": []
    },
    {
      "cell_type": "code",
      "source": [
        "X, y = datasets.make_blobs(\n",
        "    n_samples=100,\n",
        "    n_features=2,\n",
        "    centers=2,\n",
        "    cluster_std=1,\n",
        "    random_state=42\n",
        ")\n",
        "\n",
        "# preprocess labels \n",
        "y = np.where(y==0, -1, 1)"
      ],
      "metadata": {
        "id": "lG4QeihBCV13"
      },
      "execution_count": 5,
      "outputs": []
    },
    {
      "cell_type": "code",
      "source": [
        "X = normalize(X)\n",
        "print(X.shape)\n",
        "print(X[0])\n",
        "print(y.shape)\n",
        "print(y[0])\n",
        "\n",
        "\n",
        "train_X, test_X, train_y, test_y = train_test_split(X, y, test_size=0.2, random_state=42)\n"
      ],
      "metadata": {
        "colab": {
          "base_uri": "https://localhost:8080/"
        },
        "id": "r5-3PgqjCnAe",
        "outputId": "0b39dabf-5f05-4689-a251-586e89bd516d"
      },
      "execution_count": 10,
      "outputs": [
        {
          "output_type": "stream",
          "name": "stdout",
          "text": [
            "(100, 2)\n",
            "[-1.04992757  0.94273079]\n",
            "(100,)\n",
            "-1\n"
          ]
        }
      ]
    },
    {
      "cell_type": "code",
      "source": [
        "class SVM:\n",
        "\n",
        "  def __init__(self, c: float = 1.0):\n",
        "    self.c = c \n",
        "    self.losses = [] \n",
        "    self.w = None \n",
        "    self.b = None \n",
        "  \n",
        "  def hinge_loss(self, w, b, x, y):\n",
        "    max_margin_term = 0.5 * (w.transpose()@w) # 1/2 * c * ||w||^2 \n",
        "\n",
        "    soft_penalty_term = 1 - y[:, None] * (x @ w + b)\n",
        "\n",
        "    soft_penalty_term = np.array([max(0, penalty) for penalty in soft_penalty_term], dtype=object)\n",
        "    soft_penalty_term = np.mean(soft_penalty_term, axis=0)\n",
        "    loss = self.c * max_margin_term + soft_penalty_term\n",
        "    return loss[0][0] \n",
        "  \n",
        "  def fit(self, xs, ys, lr = 0.1, epochs = 50):\n",
        "    w = np.zeros((xs.shape[1], 1))\n",
        "    b = 0 \n",
        "\n",
        "    for epoch in range(epochs):\n",
        "\n",
        "      loss = self.hinge_loss(w, b, xs, ys)\n",
        "      self.losses.append(loss)\n",
        "      if epoch %5 == 0:\n",
        "        print(f'epoch{epoch}: train loss = {loss}')\n",
        "      \n",
        "      grad_w = 0 \n",
        "      grad_b = 0 \n",
        "\n",
        "      for i, (x, y) in enumerate(zip(xs, ys)):\n",
        "        if score := y * (x@w + b) > 1:\n",
        "          grad_w += 0 \n",
        "          grad_b += 0 \n",
        "        else:\n",
        "          grad_w += - (x * y).reshape(w.shape)\n",
        "          grad_b += -y \n",
        "      grad_w += self.c * w\n",
        "      w -= lr * grad_w  \n",
        "      b -= lr * grad_b  \n",
        "  \n",
        "    self.w = w \n",
        "    self.b = b \n",
        "    return self.w, self.b, self.losses \n",
        "\n",
        "      \n",
        "  def predict(self, x):\n",
        "    preds = x @ self.w + self.b\n",
        "    return np.sign(preds)\n",
        "\n",
        "  def evaluate(self, y_preds, ys):\n",
        "    acc = np.sum(y_preds==ys) / len(ys)\n",
        "    return acc \n",
        "\n"
      ],
      "metadata": {
        "id": "6Gp9ZEeTlOuu"
      },
      "execution_count": 79,
      "outputs": []
    },
    {
      "cell_type": "code",
      "source": [
        "epochs = 50 \n",
        "lr = 0.1 \n",
        "\n",
        "svm = SVM(c=1.0)\n",
        "w, b, losses = svm.fit(train_X, train_y, lr=lr, epochs=epochs)\n",
        "preds = svm.predict(test_X)\n",
        "acc = svm.evaluate(preds, test_y[:, None])\n",
        "print(f'tes accuracy: {acc}')"
      ],
      "metadata": {
        "colab": {
          "base_uri": "https://localhost:8080/"
        },
        "id": "g60XC3ujCU4O",
        "outputId": "fe9ee965-e913-4ea9-a9a5-989bc0ff2f74"
      },
      "execution_count": 80,
      "outputs": [
        {
          "output_type": "stream",
          "name": "stdout",
          "text": [
            "epoch0: train loss = 1.0\n",
            "epoch5: train loss = 25.311145728061085\n",
            "epoch10: train loss = 8.825450809604117\n",
            "epoch15: train loss = 3.077244421472046\n",
            "epoch20: train loss = 1.0729687846852998\n",
            "epoch25: train loss = 0.7896271365250149\n",
            "epoch30: train loss = 0.9776627562663291\n",
            "epoch35: train loss = 1.0319544747246805\n",
            "epoch40: train loss = 0.6812006175759652\n",
            "epoch45: train loss = 0.8328714955900083\n",
            "tes accuracy: 1.0\n"
          ]
        }
      ]
    },
    {
      "cell_type": "code",
      "source": [
        "import matplotlib.pyplot as plt \n",
        "\n",
        "# Visualizing the scatter plot of the dataset\n",
        "def visualize_dataset(X, y):\n",
        "    plt.scatter(X[:, 0], X[:, 1], c=y)\n",
        "\n",
        "\n",
        "# Visualizing SVM\n",
        "def visualize_svm(X, y):\n",
        "\n",
        "    def get_hyperplane_value(x, w, b, offset):\n",
        "        return -(w[0] * x + b + offset) / w[1]\n",
        "\n",
        "    fig = plt.figure()\n",
        "    ax = fig.add_subplot(1,1,1)\n",
        "    plt.scatter(X[:, 0], X[:, 1], marker=\"o\", c=y)\n",
        "\n",
        "    x0_1 = np.amin(X[:, 0])\n",
        "    x0_2 = np.amax(X[:, 0])\n",
        "\n",
        "    x1_1 = get_hyperplane_value(x0_1, w, b, 0)\n",
        "    x1_2 = get_hyperplane_value(x0_2, w, b, 0)\n",
        "\n",
        "    x1_1_m = get_hyperplane_value(x0_1, w, b, -1)\n",
        "    x1_2_m = get_hyperplane_value(x0_2, w, b, -1)\n",
        "\n",
        "    x1_1_p = get_hyperplane_value(x0_1, w, b, 1)\n",
        "    x1_2_p = get_hyperplane_value(x0_2, w, b, 1)\n",
        "\n",
        "    ax.plot([x0_1, x0_2], [x1_1, x1_2], \"y--\")\n",
        "    ax.plot([x0_1, x0_2], [x1_1_m, x1_2_m], \"k\")\n",
        "    ax.plot([x0_1, x0_2], [x1_1_p, x1_2_p], \"k\")\n",
        "\n",
        "    x1_min = np.amin(X[:, 1])\n",
        "    x1_max = np.amax(X[:, 1])\n",
        "    ax.set_ylim([x1_min - 3, x1_max + 3])\n",
        "\n",
        "    plt.show()\n",
        "\n",
        "\n",
        "visualize_dataset(X, y)\n",
        "visualize_svm(test_X, test_y)"
      ],
      "metadata": {
        "colab": {
          "base_uri": "https://localhost:8080/",
          "height": 513
        },
        "id": "eNr0OrljDokJ",
        "outputId": "d7d48743-32db-4b0b-84db-78caafa0b366"
      },
      "execution_count": 83,
      "outputs": [
        {
          "output_type": "display_data",
          "data": {
            "text/plain": [
              "<Figure size 432x288 with 1 Axes>"
            ],
            "image/png": "[encoded data removed]"
          },
          "metadata": {
            "needs_background": "light"
          }
        },
        {
          "output_type": "display_data",
          "data": {
            "text/plain": [
              "<Figure size 432x288 with 1 Axes>"
            ],
            "image/png": "[encoded data removed]"
          },
          "metadata": {
            "needs_background": "light"
          }
        }
      ]
    },
    {
      "cell_type": "code",
      "source": [],
      "metadata": {
        "id": "nxhodTggJ793"
      },
      "execution_count": 82,
      "outputs": []
    },
    {
      "cell_type": "markdown",
      "source": [
        "## References \n",
        "- https://www.pycodemates.com/2022/10/implementing-SVM-from-scratch-in-python.html"
      ],
      "metadata": {
        "id": "07cgPU3mSQUK"
      }
    },
    {
      "cell_type": "code",
      "source": [],
      "metadata": {
        "id": "Si7gsJUQSTux"
      },
      "execution_count": null,
      "outputs": []
    }
  ]
}