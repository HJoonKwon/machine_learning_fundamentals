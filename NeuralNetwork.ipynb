{
 "cells": [
  {
   "cell_type": "code",
   "execution_count": 24,
   "id": "79f1e391-c748-49ef-8085-2f7e981b06b4",
   "metadata": {},
   "outputs": [
    {
     "name": "stdout",
     "output_type": "stream",
     "text": [
      "The autoreload extension is already loaded. To reload it, use:\n",
      "  %reload_ext autoreload\n"
     ]
    }
   ],
   "source": [
    "import time\n",
    "import numpy as np\n",
    "import h5py\n",
    "import matplotlib.pyplot as plt\n",
    "import scipy\n",
    "from PIL import Image\n",
    "from scipy import ndimage\n",
    "\n",
    "from ml_algorithms.neural_network import * \n",
    "\n",
    "%matplotlib inline\n",
    "plt.rcParams['figure.figsize'] = (5.0, 4.0) # set default size of plots\n",
    "plt.rcParams['image.interpolation'] = 'nearest'\n",
    "plt.rcParams['image.cmap'] = 'gray'\n",
    "\n",
    "%load_ext autoreload\n",
    "%autoreload 2\n",
    "\n",
    "np.random.seed(42)"
   ]
  },
  {
   "cell_type": "markdown",
   "id": "7d01456c-dfd5-44a2-ba8e-43b6fafd1474",
   "metadata": {},
   "source": [
    "## 1) Load and preprocess the data"
   ]
  },
  {
   "cell_type": "code",
   "execution_count": 3,
   "id": "46eb46e1-3c7f-45ed-b417-3f6d8faf247a",
   "metadata": {},
   "outputs": [],
   "source": [
    "train_x_orig, train_y, test_x_orig, test_y, classes = load_data(data_dir=\"neural_network/datasets\")"
   ]
  },
  {
   "cell_type": "code",
   "execution_count": 4,
   "id": "8b13e1ff-2240-4cd7-b28b-a1cc430c4210",
   "metadata": {},
   "outputs": [
    {
     "name": "stdout",
     "output_type": "stream",
     "text": [
      "y = 1. It's a cat picture.\n"
     ]
    },
    {
     "data": {
      "image/png": "[encoded data removed]",
      "text/plain": [
       "<Figure size 500x400 with 1 Axes>"
      ]
     },
     "metadata": {},
     "output_type": "display_data"
    }
   ],
   "source": [
    "# Example of a picture\n",
    "index = 25\n",
    "plt.imshow(train_x_orig[index])\n",
    "print (\"y = \" + str(train_y[0,index]) + \". It's a \" + classes[train_y[0,index]].decode(\"utf-8\") +  \" picture.\")"
   ]
  },
  {
   "cell_type": "code",
   "execution_count": 5,
   "id": "a6edb9f6-ef72-431e-9840-71939b13cfe6",
   "metadata": {},
   "outputs": [
    {
     "name": "stdout",
     "output_type": "stream",
     "text": [
      "Number of training examples: 209\n",
      "Number of testing examples: 50\n",
      "Each image is of size: (64, 64, 3)\n",
      "train_x_orig shape: (209, 64, 64, 3)\n",
      "train_y shape: (1, 209)\n",
      "test_x_orig shape: (50, 64, 64, 3)\n",
      "test_y shape: (1, 50)\n"
     ]
    }
   ],
   "source": [
    "# Explore your dataset \n",
    "m_train = train_x_orig.shape[0]\n",
    "num_px = train_x_orig.shape[1]\n",
    "m_test = test_x_orig.shape[0]\n",
    "\n",
    "print (\"Number of training examples: \" + str(m_train))\n",
    "print (\"Number of testing examples: \" + str(m_test))\n",
    "print (\"Each image is of size: (\" + str(num_px) + \", \" + str(num_px) + \", 3)\")\n",
    "print (\"train_x_orig shape: \" + str(train_x_orig.shape))\n",
    "print (\"train_y shape: \" + str(train_y.shape))\n",
    "print (\"test_x_orig shape: \" + str(test_x_orig.shape))\n",
    "print (\"test_y shape: \" + str(test_y.shape))"
   ]
  },
  {
   "cell_type": "code",
   "execution_count": 6,
   "id": "d7a361fa-bee6-405f-9b66-4ccb032a2d09",
   "metadata": {},
   "outputs": [
    {
     "name": "stdout",
     "output_type": "stream",
     "text": [
      "(12288, 209)\n",
      "(12288, 50)\n",
      "[[0 0 1 0 0 0 0 1 0 0 0 1 0 1 1 0 0 0 0 1 0 0 0 0 1 1 0 1 0 1 0 0 0 0 0 0\n",
      "  0 0 1 0 0 1 1 0 0 0 0 1 0 0 1 0 0 0 1 0 1 1 0 1 1 1 0 0 0 0 0 0 1 0 0 1\n",
      "  0 0 0 0 0 0 0 0 0 0 0 1 1 0 0 0 1 0 0 0 1 1 1 0 0 1 0 0 0 0 1 0 1 0 1 1\n",
      "  1 1 1 1 0 0 0 0 0 1 0 0 0 1 0 0 1 0 1 0 1 1 0 0 0 1 1 1 1 1 0 0 0 0 1 0\n",
      "  1 1 1 0 1 1 0 0 0 1 0 0 1 0 0 0 0 0 1 0 1 0 1 0 0 1 1 1 0 0 1 1 0 1 0 1\n",
      "  0 0 0 0 0 1 0 0 1 0 0 0 1 0 0 0 0 1 0 0 1 0 0 0 0 0 0 0 0]]\n"
     ]
    }
   ],
   "source": [
    "# Preprocess your dataset \n",
    "train_x_flatten = train_x_orig.reshape(train_x_orig.shape[0], -1).T\n",
    "test_x_flatten = test_x_orig.reshape(test_x_orig.shape[0], -1).T\n",
    "train_x = train_x_flatten/255\n",
    "test_x = test_x_flatten/255\n",
    "print(train_x.shape)\n",
    "print(test_x.shape)\n",
    "print(train_y)"
   ]
  },
  {
   "cell_type": "markdown",
   "id": "ea0387f3-24b4-4171-97ab-ad80196ec165",
   "metadata": {},
   "source": [
    "## 2) Implement a simple neural network"
   ]
  },
  {
   "cell_type": "code",
   "execution_count": 23,
   "id": "ea5afe7d-8ad3-4d08-937d-6e2f0c22f445",
   "metadata": {},
   "outputs": [
    {
     "name": "stdout",
     "output_type": "stream",
     "text": [
      "class MultiLayerPerceptron():\n",
      "    def __init__(self, layer_dims: list = [100, 50, 20, 1], seed=42):\n",
      "        self.layer_dims = layer_dims\n",
      "        self.seed = seed\n",
      "        self.parameters = self.initialize_parameters()\n",
      "        self.caches = []\n",
      "        self.grads = {}\n",
      "        self.train = True\n",
      "\n",
      "    def initialize_parameters(self) -> dict:\n",
      "        # Xavier initialization\n",
      "        np.random.seed(self.seed)\n",
      "        L = len(self.layer_dims) - 1\n",
      "        parameters = {}\n",
      "        for l in range(1, L + 1):\n",
      "            parameters['W' + str(l)] = np.random.randn(\n",
      "                self.layer_dims[l], self.layer_dims[l - 1]) / np.sqrt(\n",
      "                    self.layer_dims[l - 1])\n",
      "            parameters['b' + str(l)] = np.zeros((self.layer_dims[l], 1))\n",
      "        return parameters\n",
      "\n",
      "    def forward(self, X: np.ndarray) -> np.ndarray:\n",
      "\n",
      "        L = len(self.layer_dims) - 1\n",
      "        A_prev = X\n",
      "        caches = []\n",
      "        for l in range(1, L):\n",
      "            A_prev, linear_activation_cache = linear_activation_forward(\n",
      "                A_prev,\n",
      "                self.parameters['W' + str(l)],\n",
      "                self.parameters['b' + str(l)],\n",
      "                activation='relu')\n",
      "            if self.train:\n",
      "                caches.append(linear_activation_cache)\n",
      "        AL, linear_activation_cache = linear_activation_forward(\n",
      "            A_prev,\n",
      "            self.parameters['W' + str(L)],\n",
      "            self.parameters['b' + str(L)],\n",
      "            activation='sigmoid')\n",
      "        if self.train:\n",
      "            caches.append(linear_activation_cache)\n",
      "        self.caches = caches\n",
      "        return AL\n",
      "\n",
      "    def predict(self, X:np.ndarray):\n",
      "        self.train = False\n",
      "        AL = self.forward(X)\n",
      "        preds = AL >= 0.5\n",
      "        return preds\n",
      "\n",
      "    def backward(self, AL: np.ndarray, Y: np.ndarray) -> dict:\n",
      "        L = len(self.layer_dims) - 1\n",
      "        grads = {}\n",
      "\n",
      "        dAL = cross_entropy_backward(AL, Y)\n",
      "        grads['dA' + str(L)] = dAL\n",
      "        grads['dA' + str(L - 1)], grads['dW' + str(L)], grads[\n",
      "            'db' + str(L)] = linear_activation_backward(grads['dA' + str(L)],\n",
      "                                                       self.caches[L-1],\n",
      "                                                       activation='sigmoid')\n",
      "        for l in range(L - 1, 0, -1):\n",
      "            grads['dA' + str(l - 1)], grads['dW' + str(l)], grads[\n",
      "                'db' + str(l)] = linear_activation_backward(grads['dA' +\n",
      "                                                                 str(l)],\n",
      "                                                           self.caches[l-1],\n",
      "                                                           activation='relu')\n",
      "        self.grads = grads\n",
      "        return self.grads\n",
      "\n",
      "    def update_parameters(self, learning_rate: float = 0.01):\n",
      "        L = len(self.layer_dims) - 1\n",
      "        for l in range(1, L+1):\n",
      "            self.parameters['W'+str(l)] -= learning_rate * self.grads['dW'+str(l)]\n",
      "            self.parameters['b'+str(l)] -= learning_rate * self.grads['db'+str(l)]\n",
      "        return self.parameters\n",
      "\n"
     ]
    }
   ],
   "source": [
    "import inspect\n",
    "lines = inspect.getsource(MultiLayerPerceptron)\n",
    "print(lines)"
   ]
  },
  {
   "cell_type": "markdown",
   "id": "69c59230-567f-480c-b4cc-90481e939aba",
   "metadata": {},
   "source": [
    "## 3) Build and train a multi layers neural network"
   ]
  },
  {
   "cell_type": "code",
   "execution_count": 7,
   "id": "5ff6a5c5-060b-4121-972f-5e1cecccd28f",
   "metadata": {},
   "outputs": [],
   "source": [
    "# build your model \n",
    "layers_dim = [12288, 20, 7, 5, 1]"
   ]
  },
  {
   "cell_type": "code",
   "execution_count": 9,
   "id": "508c8781-16d9-47e3-ad8e-965e6f0045b9",
   "metadata": {},
   "outputs": [],
   "source": [
    "def train(X, Y, layers_dims, learning_rate=0.0075, num_iterations=3000, seed=1, print_cost=False):\n",
    "    np.random.seed(seed)\n",
    "    costs = [] \n",
    "    model = MultiLayerPerceptron(layer_dims=layers_dims, seed=1)\n",
    "    \n",
    "    for i in range(num_iterations):\n",
    "        \n",
    "        AL = model.forward(X)\n",
    "        cost = cross_entropy(AL, Y)\n",
    "        model.backward(AL, Y)\n",
    "        model.update_parameters(learning_rate)\n",
    "        if i%500 == 0:\n",
    "            costs.append(cost)\n",
    "            if print_cost:\n",
    "                print(f\"Cost at iteration{i}: {cost}\")\n",
    "    return model, costs "
   ]
  },
  {
   "cell_type": "code",
   "execution_count": 13,
   "id": "08240a52-93eb-4c74-9a39-035c7220b2c7",
   "metadata": {
    "tags": []
   },
   "outputs": [
    {
     "name": "stdout",
     "output_type": "stream",
     "text": [
      "Cost at iteration0: 0.7717493284237686\n",
      "Cost at iteration500: 0.54013766345478\n",
      "Cost at iteration1000: 0.31518698886006163\n",
      "Cost at iteration1500: 0.1611885466582775\n",
      "Cost at iteration2000: 0.11382060668633709\n",
      "Cost at iteration2500: 0.08841251177615041\n"
     ]
    }
   ],
   "source": [
    "learning_rate = 0.0075\n",
    "num_iterations = 3000 \n",
    "model, costs = train(train_x, train_y, layers_dim, learning_rate=learning_rate, num_iterations=num_iterations, print_cost=True)"
   ]
  },
  {
   "cell_type": "code",
   "execution_count": 15,
   "id": "c1851c80-8110-4cdc-94c1-dc6c03a0334b",
   "metadata": {},
   "outputs": [
    {
     "data": {
      "text/plain": [
       "Text(0.5, 1.0, 'Learning rate=0.0075')"
      ]
     },
     "execution_count": 15,
     "metadata": {},
     "output_type": "execute_result"
    },
    {
     "data": {
      "image/png": "[encoded data removed]",
      "text/plain": [
       "<Figure size 500x400 with 1 Axes>"
      ]
     },
     "metadata": {},
     "output_type": "display_data"
    }
   ],
   "source": [
    "plt.plot(costs)\n",
    "plt.xlabel('iterations (per 500)')\n",
    "plt.ylabel('cost')\n",
    "plt.title(f'Learning rate={learning_rate}')"
   ]
  },
  {
   "cell_type": "markdown",
   "id": "ca9f7cf6-3540-4d57-83f9-89bb06619f94",
   "metadata": {},
   "source": [
    "## 4) Evaluate the model on testset"
   ]
  },
  {
   "cell_type": "code",
   "execution_count": 22,
   "id": "0e69025b-9802-4bb6-a9cc-db23971a3922",
   "metadata": {},
   "outputs": [
    {
     "name": "stdout",
     "output_type": "stream",
     "text": [
      " model accuracy on testset = 0.82\n"
     ]
    }
   ],
   "source": [
    "preds = model.predict(test_x)\n",
    "acc = np.sum(preds == test_y) / test_y.shape[1]\n",
    "print(f' model accuracy on testset = {acc}')"
   ]
  },
  {
   "cell_type": "markdown",
   "id": "4d5241e1-af5f-4042-b272-2641d8ac737f",
   "metadata": {},
   "source": [
    "## References\n",
    "\n",
    "- https://github.com/amanchadha/coursera-deep-learning-specialization"
   ]
  },
  {
   "cell_type": "code",
   "execution_count": null,
   "id": "9eef889b-43e1-445c-90c5-5366ebf2e92e",
   "metadata": {},
   "outputs": [],
   "source": []
  }
 ],
 "metadata": {
  "kernelspec": {
   "display_name": "Python 3 (ipykernel)",
   "language": "python",
   "name": "python3"
  },
  "language_info": {
   "codemirror_mode": {
    "name": "ipython",
    "version": 3
   },
   "file_extension": ".py",
   "mimetype": "text/x-python",
   "name": "python",
   "nbconvert_exporter": "python",
   "pygments_lexer": "ipython3",
   "version": "3.10.8"
  }
 },
 "nbformat": 4,
 "nbformat_minor": 5
}
