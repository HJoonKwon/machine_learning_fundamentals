{
  "nbformat": 4,
  "nbformat_minor": 0,
  "metadata": {
    "colab": {
      "provenance": [],
      "authorship_tag": "ABX9TyOXnB3Rv9mRjW+JZMUgXdAr",
      "include_colab_link": true
    },
    "kernelspec": {
      "name": "python3",
      "display_name": "Python 3"
    },
    "language_info": {
      "name": "python"
    }
  },
  "cells": [
    {
      "cell_type": "markdown",
      "metadata": {
        "id": "view-in-github",
        "colab_type": "text"
      },
      "source": [
        "<a href=\"https://colab.research.google.com/github/HJoonKwon/ml_fundamentals/blob/main/Linear_Regression.ipynb\" target=\"_parent\"><img src=\"https://colab.research.google.com/assets/colab-badge.svg\" alt=\"Open In Colab\"/></a>"
      ]
    },
    {
      "cell_type": "markdown",
      "source": [
        "## Linear Regression \n",
        "- Supervised Learning Algorithm\n",
        "- For Regression Problems\n",
        "- Minimize MSE(Mean Squared Error)\n",
        "  - Gradient Descent\n",
        "  - Newton's method & Hessian Matrix \n",
        "- Equal to the linear least-square algorithm\n",
        "\n",
        "### How does it work?\n",
        "- Define a hypothesis function h(θ) to predict regression output given input X \n",
        "$$ h_{\\theta}(X) = θ^TX $$\n",
        "- Define the cost function J, and find θ such that the model minimizes the cost function. \n",
        "$$ J = \\frac{1}{2m} Σ_{i=1}^m (h_{\\theta}(X)-y^{(i)})^2$$\n",
        "$$ \\theta^* = argmin_{\\theta} J(\\theta)$$\n",
        "- We can update θ in two ways\n",
        "  1. Gradient Descent to update θ iteratively using the gradient of J with respect to θ. \n",
        "  2. Newton's method to find the global(==local) minimum of the cost function J with respect to Θ. \n",
        "\n",
        "  #### 1) Gradient Descent \n",
        "  - α : learning rate \n",
        "  - For j-th element of θ\n",
        "  $$ \\theta_j  := \\theta_j - \\alpha \\frac{∂}{∂θ_j}J(θ)$$\n",
        "\n",
        "  #### 2) Newton's method\n",
        "\n",
        "  $$ \\theta := \\theta - H^{-1}∇_{\\theta}J(\\theta) $$\n",
        "  $$ H_{ij} =  \\frac{∂^2 J(\\theta)}{∂θ_i ∂θ_j}$$"
      ],
      "metadata": {
        "id": "tUUoprp0lt0P"
      }
    },
    {
      "cell_type": "code",
      "source": [
        "import numpy as np \n",
        "import matplotlib.pyplot as plt \n",
        "from sklearn.model_selection import train_test_split\n",
        "from sklearn.preprocessing import StandardScaler\n",
        "from sklearn.datasets import load_diabetes"
      ],
      "metadata": {
        "id": "zzsj1RBMKD2K"
      },
      "execution_count": 18,
      "outputs": []
    },
    {
      "cell_type": "markdown",
      "source": [
        "### 0) Define helper functions "
      ],
      "metadata": {
        "id": "E68EfozlZjFf"
      }
    },
    {
      "cell_type": "code",
      "source": [
        "def normalize(data: np.ndarray):\n",
        "  data = (data - np.mean(data, axis=0))/np.std(data, axis=0)\n",
        "  return data "
      ],
      "metadata": {
        "id": "JkT0DilTZmVP"
      },
      "execution_count": 13,
      "outputs": []
    },
    {
      "cell_type": "markdown",
      "source": [
        "### 1) Prepare for dataset"
      ],
      "metadata": {
        "id": "hoTabtJ7J-a3"
      }
    },
    {
      "cell_type": "code",
      "execution_count": 39,
      "metadata": {
        "id": "zat9AitEkxkQ",
        "colab": {
          "base_uri": "https://localhost:8080/"
        },
        "outputId": "4fbd79de-9463-4b98-edda-a4873f7eebfb"
      },
      "outputs": [
        {
          "output_type": "stream",
          "name": "stdout",
          "text": [
            "dict_keys(['data', 'target', 'frame', 'DESCR', 'feature_names', 'data_filename', 'target_filename', 'data_module'])\n",
            "['age', 'sex', 'bmi', 'bp', 's1', 's2', 's3', 's4', 's5', 's6']\n",
            "(442, 10)\n",
            "(442,)\n",
            "[ 0.03807591  0.05068012  0.06169621  0.02187235 -0.0442235  -0.03482076\n",
            " -0.04340085 -0.00259226  0.01990842 -0.01764613]\n"
          ]
        }
      ],
      "source": [
        "data = load_diabetes() \n",
        "print(data.keys())\n",
        "print(data['feature_names'])\n",
        "print(data['data'].shape)\n",
        "print(data['target'].shape)\n",
        "print(data['data'][0])"
      ]
    },
    {
      "cell_type": "code",
      "source": [
        "X = data['data']\n",
        "y = data['target']\n",
        "X, y = normalize(X), normalize(y)\n",
        "train_X, test_X, train_y, test_y = train_test_split(X, y, test_size=0.2, random_state=42)\n",
        "train_y = train_y[:, None]\n",
        "test_y = test_y[:, None]\n",
        "\n",
        "print(train_X.shape)\n",
        "print(test_X.shape)\n",
        "print(X[0])\n",
        "print(y[0])"
      ],
      "metadata": {
        "colab": {
          "base_uri": "https://localhost:8080/"
        },
        "id": "K9_X7-dcYw0x",
        "outputId": "ea0dad62-873f-4abc-be86-ac2889d9ff20"
      },
      "execution_count": 121,
      "outputs": [
        {
          "output_type": "stream",
          "name": "stdout",
          "text": [
            "(353, 10)\n",
            "(89, 10)\n",
            "[ 0.80050009  1.06548848  1.29708846  0.45983993 -0.92974581 -0.73206462\n",
            " -0.91245053 -0.05449919  0.41855058 -0.37098854]\n",
            "-0.014719475152121254\n"
          ]
        }
      ]
    },
    {
      "cell_type": "markdown",
      "source": [
        "### 2) Visulize some part of data "
      ],
      "metadata": {
        "id": "sBkrtve-ae3u"
      }
    },
    {
      "cell_type": "code",
      "source": [
        "plt.xlabel(data['feature_names'][0])\n",
        "plt.ylabel('Diabetes progresssion')\n",
        "plt.plot(X[:, 0], y, 'bo')"
      ],
      "metadata": {
        "colab": {
          "base_uri": "https://localhost:8080/",
          "height": 296
        },
        "id": "QSJpdmbqankY",
        "outputId": "d57b8023-1b01-44b8-bffc-cfa3744226e8"
      },
      "execution_count": 91,
      "outputs": [
        {
          "output_type": "execute_result",
          "data": {
            "text/plain": [
              "[<matplotlib.lines.Line2D at 0x7f2f07666af0>]"
            ]
          },
          "metadata": {},
          "execution_count": 91
        },
        {
          "output_type": "display_data",
          "data": {
            "text/plain": [
              "<Figure size 432x288 with 1 Axes>"
            ],
            "image/png": "[encoded data removed]"
          },
          "metadata": {
            "needs_background": "light"
          }
        }
      ]
    },
    {
      "cell_type": "markdown",
      "source": [
        "### 3) Implement Linear Regression algorithm  "
      ],
      "metadata": {
        "id": "VXvQoINEdYCD"
      }
    },
    {
      "cell_type": "code",
      "source": [
        "class LinearRegressor():\n",
        "\n",
        "  def __init__(self):\n",
        "    self.theta: np.ndarray\n",
        "    self.test_X: np.ndarray\n",
        "    self.test_y: np.ndarray \n",
        "\n",
        "  def fit(self, X, y, lr, num_epochs):\n",
        "    self._initialize_theta(X)\n",
        "    theta, train_costs, test_costs = self._gradient_descent(X, y, lr, num_epochs)\n",
        "    return theta, train_costs, test_costs \n",
        "  \n",
        "  def predict(self, X_batch):\n",
        "    preds = [] \n",
        "    for X in X_batch:\n",
        "      h = self._hypothesis(X, self.theta)\n",
        "      preds.append(h)\n",
        "    return preds \n",
        "  \n",
        "  def enable_test(self, X, y):\n",
        "    self.test_X = X\n",
        "    self.test_y = y \n",
        "  \n",
        "  def _initialize_theta(self, X):\n",
        "    self.theta = np.zeros((X.shape[1], 1))\n",
        "\n",
        "  def _cost(self, X, y, theta):\n",
        "    h = self._hypothesis(X, theta)\n",
        "    J = 1/(2*X.shape[0]) * np.linalg.norm(h-y, ord=2) ** 2\n",
        "    return J \n",
        "  \n",
        "  def _hypothesis(self, X, theta):\n",
        "    h = X @ theta \n",
        "    return h \n",
        "  \n",
        "  def _gradient_descent(self, X, y, lr, num_epochs):\n",
        "    \n",
        "    train_costs = [] \n",
        "    test_costs = [] \n",
        "    num_samples = X.shape[0]\n",
        "    for _ in range(num_epochs):\n",
        "      h = self._hypothesis(X, self.theta)\n",
        "      dJdtheta = 1/num_samples * X.T @ (h-y)\n",
        "      self.theta -= lr * dJdtheta\n",
        "      train_costs.append(self._cost(X, y, self.theta))\n",
        "\n",
        "      if test_X.shape[0] > 0:\n",
        "        test_costs.append(self._cost(self.test_X, self.test_y, self.theta))\n",
        "    \n",
        "    return self.theta, train_costs, test_costs \n"
      ],
      "metadata": {
        "id": "O1JYGJe0dYlS"
      },
      "execution_count": 139,
      "outputs": []
    },
    {
      "cell_type": "markdown",
      "source": [
        "### 4) Test the algorithm "
      ],
      "metadata": {
        "id": "KRdQj1dkiHzx"
      }
    },
    {
      "cell_type": "code",
      "source": [
        "# For training dataset \n",
        "num_epochs = 30\n",
        "learning_rate = 0.1\n",
        "linear_regressor = LinearRegressor()\n",
        "linear_regressor.enable_test(test_X, test_y)\n",
        "theta, train_costs, test_costs = linear_regressor.fit(train_X, train_y, lr=learning_rate, num_epochs=num_epochs)"
      ],
      "metadata": {
        "id": "xWMqaY4yiKJy"
      },
      "execution_count": 140,
      "outputs": []
    },
    {
      "cell_type": "code",
      "source": [
        "plt.plot(range(1, num_epochs+1), train_costs, label='train')\n",
        "plt.plot(range(1, num_epochs+1), test_costs, label='test')\n",
        "plt.legend()\n",
        "plt.xlabel('epoch')\n",
        "plt.ylabel('J')"
      ],
      "metadata": {
        "colab": {
          "base_uri": "https://localhost:8080/",
          "height": 296
        },
        "id": "GEp8x3EDjFtK",
        "outputId": "78eed25d-06bb-4d29-c81c-2c863728d4c8"
      },
      "execution_count": 137,
      "outputs": [
        {
          "output_type": "execute_result",
          "data": {
            "text/plain": [
              "Text(0, 0.5, 'J')"
            ]
          },
          "metadata": {},
          "execution_count": 137
        },
        {
          "output_type": "display_data",
          "data": {
            "text/plain": [
              "<Figure size 432x288 with 1 Axes>"
            ],
            "image/png": "[encoded data removed]"
          },
          "metadata": {
            "needs_background": "light"
          }
        }
      ]
    },
    {
      "cell_type": "markdown",
      "source": [
        "## References \n",
        "- https://towardsdatascience.com/coding-linear-regression-from-scratch-c42ec079902"
      ],
      "metadata": {
        "id": "Nwr_m0inlrFc"
      }
    },
    {
      "cell_type": "code",
      "source": [],
      "metadata": {
        "id": "SYZhnCA9lsCz"
      },
      "execution_count": null,
      "outputs": []
    }
  ]
}