{
  "nbformat": 4,
  "nbformat_minor": 0,
  "metadata": {
    "colab": {
      "provenance": [],
      "authorship_tag": "ABX9TyOkkUDCw+W4v/6DBiw5ftZU",
      "include_colab_link": true
    },
    "kernelspec": {
      "name": "python3",
      "display_name": "Python 3"
    },
    "language_info": {
      "name": "python"
    }
  },
  "cells": [
    {
      "cell_type": "markdown",
      "metadata": {
        "id": "view-in-github",
        "colab_type": "text"
      },
      "source": [
        "<a href=\"https://colab.research.google.com/github/HJoonKwon/ml_fundamentals/blob/main/K_Means_Clustering.ipynb\" target=\"_parent\"><img src=\"https://colab.research.google.com/assets/colab-badge.svg\" alt=\"Open In Colab\"/></a>"
      ]
    },
    {
      "cell_type": "markdown",
      "source": [
        "## K-Means Clustring Algorithm \n",
        "- An unsupervised learning algorithm (no dependent variables, only independent ones)\n",
        "\n",
        "### What does it do?\n",
        "- Segment the data points into K number of clusters\n",
        "\n",
        "\n",
        "### How does it work?\n",
        "1. Initially randomly select K centroids and each centroid form a cluster.\n",
        "2. Assign all the data points to the closest clusters\n",
        "3. Update the centroids to the mean of the assigned data points. \n",
        "4. Iterate from 2-4 until the maximum number of iterations is reached or the centroids converge. "
      ],
      "metadata": {
        "id": "mLVeYx4r3MXO"
      }
    },
    {
      "cell_type": "code",
      "source": [
        "import numpy as np \n",
        "import seaborn as sns\n",
        "from sklearn.datasets import make_blobs \n",
        "import matplotlib.pyplot as plt \n",
        "from sklearn.preprocessing import StandardScaler "
      ],
      "metadata": {
        "id": "Zy1mBJ3P5Qcr"
      },
      "execution_count": 6,
      "outputs": []
    },
    {
      "cell_type": "markdown",
      "source": [
        "### 1) Create the dataset\n",
        "- We do not need labels, but let us define ```y_train``` to evaluate the algorithm later."
      ],
      "metadata": {
        "id": "fN4AdF_s5KMV"
      }
    },
    {
      "cell_type": "code",
      "execution_count": 2,
      "metadata": {
        "colab": {
          "base_uri": "https://localhost:8080/"
        },
        "id": "R64smzdzxGLA",
        "outputId": "93b507b9-4a7e-4b83-c32e-3564bfcf628c"
      },
      "outputs": [
        {
          "output_type": "stream",
          "name": "stdout",
          "text": [
            "(100, 2)\n",
            "(100,)\n",
            "[-6.2927701  -4.68965397]\n",
            "2\n"
          ]
        }
      ],
      "source": [
        "X_train, y_train = make_blobs(n_samples=100, centers=5, random_state=42)\n",
        "print(X_train.shape)\n",
        "print(y_train.shape)\n",
        "print(X_train[0])\n",
        "print(y_train[0])"
      ]
    },
    {
      "cell_type": "markdown",
      "source": [
        "### 2) Preprocess the data"
      ],
      "metadata": {
        "id": "IIy191eR6IT-"
      }
    },
    {
      "cell_type": "code",
      "source": [
        "scaler = StandardScaler()\n",
        "X_train = scaler.fit_transform(X_train)"
      ],
      "metadata": {
        "id": "g-qFQX-16F1J"
      },
      "execution_count": 3,
      "outputs": []
    },
    {
      "cell_type": "markdown",
      "source": [
        "### 3) Visualize the data "
      ],
      "metadata": {
        "id": "rIgXLtZB6VWN"
      }
    },
    {
      "cell_type": "code",
      "source": [
        "sns.scatterplot(x=[X[0] for X in X_train],\n",
        "                y=[X[1] for X in X_train],\n",
        "                hue=y_train,\n",
        "                palette='deep',\n",
        "                legend=None)\n",
        "\n",
        "plt.xlabel('x')\n",
        "plt.ylabel('y')\n",
        "plt.show()"
      ],
      "metadata": {
        "colab": {
          "base_uri": "https://localhost:8080/",
          "height": 280
        },
        "id": "Bc2ea5bB6XOp",
        "outputId": "971f2d6a-5405-4719-9522-b37d6fd9112d"
      },
      "execution_count": 4,
      "outputs": [
        {
          "output_type": "display_data",
          "data": {
            "text/plain": [
              "<Figure size 432x288 with 1 Axes>"
            ],
            "image/png": "[encoded data removed]"
          },
          "metadata": {
            "needs_background": "light"
          }
        }
      ]
    },
    {
      "cell_type": "markdown",
      "source": [
        "### 4) Define helper functions "
      ],
      "metadata": {
        "id": "SXHNC5hm6rs9"
      }
    },
    {
      "cell_type": "code",
      "source": [
        "def euclidean(point, centroids):\n",
        "  '''Returns Euclidean distances between a point and centroids'''\n",
        "  return np.linalg.norm(point-centroids, axis=1)"
      ],
      "metadata": {
        "id": "QQruX95y6uz7"
      },
      "execution_count": 5,
      "outputs": []
    },
    {
      "cell_type": "markdown",
      "source": [
        "### 5) Implementation "
      ],
      "metadata": {
        "id": "rVsRAYz2jitZ"
      }
    },
    {
      "cell_type": "code",
      "source": [
        "class KMeans:\n",
        "  def __init__(self, n_clusters=8, max_iter=300):\n",
        "    self.n_clusters = n_clusters \n",
        "    self.max_iter = max_iter \n",
        "    self.centroids = np.zeros((self.n_clusters, 2))\n",
        "    self.prev_centroids = self.centroids \n",
        "\n",
        "  def fit(self, X_train):\n",
        "\n",
        "    # randomly sample intial centroids from uniform distribution \n",
        "    _min, _max = np.min(X_train, axis=0), np.max(X_train, axis=0)\n",
        "    self.centroids = np.random.uniform(low=_min, high=_max, size=(self.n_clusters, 2))\n",
        "\n",
        "    iter = 0 \n",
        "    while iter < self.max_iter:\n",
        "      # assign data points to the closest clusters \n",
        "      points_to_clusters = [[] for _ in range(self.n_clusters)]\n",
        "      for x in X_train:\n",
        "        distances = euclidean(x, self.centroids)\n",
        "        centroid_idx = np.argmin(distances)\n",
        "        points_to_clusters[centroid_idx].append(x)\n",
        "\n",
        "      # calculate mean points of clusters, and update centroids \n",
        "      self.prev_centroids = self.centroids \n",
        "      self.centroids = [np.mean(cluster, axis=0) for cluster in points_to_clusters]\n",
        "\n",
        "      # error handling \n",
        "      for i, centroid in enumerate(self.centroids):\n",
        "        if np.isnan(centroid).any():\n",
        "          self.centroids[i] = self.prev_centroids[i]\n",
        "      \n",
        "      # update iteration\n",
        "      iter += 1 \n",
        "    \n",
        "  def get_result(self):\n",
        "    centroid_idxs = []\n",
        "    for x in X_train:\n",
        "      distances = euclidean(x, self.centroids)\n",
        "      centroid_idx = np.argmin(distances)\n",
        "      centroid_idxs.append(centroid_idx)\n",
        "      \n",
        "    return self.centroids, centroid_idxs \n"
      ],
      "metadata": {
        "id": "C2QcSF-djl5x"
      },
      "execution_count": 60,
      "outputs": []
    },
    {
      "cell_type": "markdown",
      "source": [
        "### 6) Test the algorithm and Visualize the result "
      ],
      "metadata": {
        "id": "CdM211tw1ikJ"
      }
    },
    {
      "cell_type": "code",
      "source": [
        "kmeans = KMeans(n_clusters=5)\n",
        "kmeans.fit(X_train)\n",
        "\n",
        "centroids, centroid_idxs = kmeans.get_result()"
      ],
      "metadata": {
        "id": "E0Btlbr80NhE"
      },
      "execution_count": 61,
      "outputs": []
    },
    {
      "cell_type": "code",
      "source": [
        "# Visualize \n",
        "sns.scatterplot(x=[X[0] for X in X_train],\n",
        "                y=[X[1] for X in X_train],\n",
        "                hue=y_train,\n",
        "                style=centroid_idxs,\n",
        "                palette='deep',\n",
        "                legend=None)\n",
        "plt.plot([x for x, _ in kmeans.centroids],\n",
        "         [y for _, y in kmeans.centroids],\n",
        "         '*',\n",
        "         markersize=10)\n",
        "plt.show()"
      ],
      "metadata": {
        "colab": {
          "base_uri": "https://localhost:8080/",
          "height": 266
        },
        "id": "WHVRdJku1D8-",
        "outputId": "575cd324-8d5c-453b-ba7f-894f6e697c2a"
      },
      "execution_count": 63,
      "outputs": [
        {
          "output_type": "display_data",
          "data": {
            "text/plain": [
              "<Figure size 432x288 with 1 Axes>"
            ],
            "image/png": "[encoded data removed]"
          },
          "metadata": {
            "needs_background": "light"
          }
        }
      ]
    },
    {
      "cell_type": "markdown",
      "source": [
        "## References\n",
        "- https://towardsdatascience.com/create-your-own-k-means-clustering-algorithm-in-python-d7d4c9077670\n"
      ],
      "metadata": {
        "id": "fHffYwME3IHt"
      }
    },
    {
      "cell_type": "code",
      "source": [],
      "metadata": {
        "id": "nE2Vv6Sk3K14"
      },
      "execution_count": null,
      "outputs": []
    }
  ]
}
