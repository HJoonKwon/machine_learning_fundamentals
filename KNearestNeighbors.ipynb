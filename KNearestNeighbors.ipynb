{
  "nbformat": 4,
  "nbformat_minor": 0,
  "metadata": {
    "colab": {
      "provenance": [],
      "authorship_tag": "ABX9TyO2sY4Vbb2h2n3jPNGfHJiQ",
      "include_colab_link": true
    },
    "kernelspec": {
      "name": "python3",
      "display_name": "Python 3"
    },
    "language_info": {
      "name": "python"
    }
  },
  "cells": [
    {
      "cell_type": "markdown",
      "metadata": {
        "id": "view-in-github",
        "colab_type": "text"
      },
      "source": [
        "<a href=\"https://colab.research.google.com/github/HJoonKwon/ml_fundamentals/blob/main/K_Nearest_Neighbors.ipynb\" target=\"_parent\"><img src=\"https://colab.research.google.com/assets/colab-badge.svg\" alt=\"Open In Colab\"/></a>"
      ]
    },
    {
      "cell_type": "markdown",
      "source": [
        "## K-Nearest Neighbors Algorithm \n",
        "- A supervised learning algorithm \n",
        "- For classification and regression problems\n",
        "- To predict for a new data point, we look to see the k closest labeled data points and classify the new data point as the majority class in those k points.\n",
        "\n",
        "### Pros \n",
        "- Fast \n",
        "- Interpretable\n",
        "\n",
        "### Cons\n",
        "- Lack of capacity to adapt to highly complex relationships between independent(X) and dependent(y) variables."
      ],
      "metadata": {
        "id": "ZmF6mqMtd9bg"
      }
    },
    {
      "cell_type": "code",
      "source": [
        "import pandas as pd \n",
        "import numpy as np \n",
        "import matplotlib.pyplot as plt \n",
        "import seaborn as sns "
      ],
      "metadata": {
        "id": "8htbqrJZe5_6"
      },
      "execution_count": 1,
      "outputs": []
    },
    {
      "cell_type": "markdown",
      "source": [
        "## 1. Create the dataset"
      ],
      "metadata": {
        "id": "fuu6cH9Bewlt"
      }
    },
    {
      "cell_type": "code",
      "execution_count": 2,
      "metadata": {
        "id": "ka139nmHc5Tm"
      },
      "outputs": [],
      "source": [
        "from sklearn import datasets "
      ]
    },
    {
      "cell_type": "code",
      "source": [
        "iris_data = datasets.load_iris() "
      ],
      "metadata": {
        "id": "h_Ry0UI6fFsW"
      },
      "execution_count": 3,
      "outputs": []
    },
    {
      "cell_type": "code",
      "source": [
        "print(iris_data['data'].shape)\n",
        "print(iris_data['target'])\n",
        "\n",
        "\n",
        "# Visualization for small test \n",
        "color_map = np.array(['r', 'g', 'b'])\n",
        "plt.scatter(iris_data['data'][:,0], iris_data['data'][:,1], c=color_map[iris_data['target']])"
      ],
      "metadata": {
        "colab": {
          "base_uri": "https://localhost:8080/",
          "height": 389
        },
        "id": "yDZgQiX6fPES",
        "outputId": "a409bc86-68af-4b21-a453-816e6389ba14"
      },
      "execution_count": 4,
      "outputs": [
        {
          "output_type": "stream",
          "name": "stdout",
          "text": [
            "(150, 4)\n",
            "[0 0 0 0 0 0 0 0 0 0 0 0 0 0 0 0 0 0 0 0 0 0 0 0 0 0 0 0 0 0 0 0 0 0 0 0 0\n",
            " 0 0 0 0 0 0 0 0 0 0 0 0 0 1 1 1 1 1 1 1 1 1 1 1 1 1 1 1 1 1 1 1 1 1 1 1 1\n",
            " 1 1 1 1 1 1 1 1 1 1 1 1 1 1 1 1 1 1 1 1 1 1 1 1 1 1 2 2 2 2 2 2 2 2 2 2 2\n",
            " 2 2 2 2 2 2 2 2 2 2 2 2 2 2 2 2 2 2 2 2 2 2 2 2 2 2 2 2 2 2 2 2 2 2 2 2 2\n",
            " 2 2]\n"
          ]
        },
        {
          "output_type": "execute_result",
          "data": {
            "text/plain": [
              "<matplotlib.collections.PathCollection at 0x7f43015d1880>"
            ]
          },
          "metadata": {},
          "execution_count": 4
        },
        {
          "output_type": "display_data",
          "data": {
            "text/plain": [
              "<Figure size 432x288 with 1 Axes>"
            ],
            "image/png": "[encoded data removed]"
          },
          "metadata": {
            "needs_background": "light"
          }
        }
      ]
    },
    {
      "cell_type": "markdown",
      "source": [
        "## 2. Data preprocessing and split "
      ],
      "metadata": {
        "id": "D_HBn6qngpIM"
      }
    },
    {
      "cell_type": "code",
      "source": [
        "def normalize(data: np.ndarray):\n",
        "  data = (data - np.mean(data, axis=0))/np.std(data, axis=0)\n",
        "  return data "
      ],
      "metadata": {
        "id": "g7JPWfxms44I"
      },
      "execution_count": 5,
      "outputs": []
    },
    {
      "cell_type": "code",
      "source": [
        "from sklearn.model_selection import train_test_split\n",
        "\n",
        "X = iris_data['data']\n",
        "y = iris_data['target']\n",
        "\n",
        "X = normalize(X)\n",
        "X_train, X_test, y_train, y_test = train_test_split(X, y, test_size=0.2, random_state=42)"
      ],
      "metadata": {
        "id": "8cne6x4ygr9H"
      },
      "execution_count": 6,
      "outputs": []
    },
    {
      "cell_type": "markdown",
      "source": [
        "## 3. Model Creation "
      ],
      "metadata": {
        "id": "bbQyPZubjIQq"
      }
    },
    {
      "cell_type": "markdown",
      "source": [
        "### 1) Helper Functions "
      ],
      "metadata": {
        "id": "1FssULAIjWyg"
      }
    },
    {
      "cell_type": "code",
      "source": [
        "from collections import Counter\n",
        "\n",
        "def most_common(data: list):\n",
        "  '''Returns the most common element in the list'''\n",
        "  counts = Counter(data)\n",
        "  return counts.most_common(1)[0][0]"
      ],
      "metadata": {
        "id": "Cabq21MzjZRA"
      },
      "execution_count": 7,
      "outputs": []
    },
    {
      "cell_type": "code",
      "source": [
        "def euclidean(point, data):\n",
        "  '''Returns Euclidean distances between a point and data'''\n",
        "  return np.linalg.norm((point-data), axis=1)"
      ],
      "metadata": {
        "id": "bOSM1zuijqXj"
      },
      "execution_count": 8,
      "outputs": []
    },
    {
      "cell_type": "markdown",
      "source": [
        "### 2) KNN Implementation"
      ],
      "metadata": {
        "id": "wGwUW1flkh85"
      }
    },
    {
      "cell_type": "code",
      "source": [
        "class KNeighborsClassifier():\n",
        "  def __init__(self, k=5, metric=euclidean):\n",
        "    self.k = k \n",
        "    self.metric = metric \n",
        "  \n",
        "  def fit(self, X_train, y_train):\n",
        "    self.X_train = X_train\n",
        "    self.y_train = y_train \n",
        "  \n",
        "  def predict(self, X_test):\n",
        "    '''Returns the predicted labels using KNN algorithm'''\n",
        "\n",
        "    # for each data point in X_test\n",
        "    preds = [] \n",
        "    for x in X_test:\n",
        "      distances = self.metric(x, self.X_train)\n",
        "    # get the k closest points from X_test based on euclidean distance \n",
        "      y_sorted = [y for _, y in sorted(zip(distances, self.y_train), key=lambda x: x[0])]\n",
        "      y_sorted_k = y_sorted[:self.k]\n",
        "    # get the most common label in k points \n",
        "      pred = most_common(y_sorted_k)\n",
        "      preds.append(pred)\n",
        "    # return the predicted label \n",
        "    return preds \n",
        "\n",
        "  def evaluate(self, X_test, y_test):\n",
        "    '''Returns the accuracy'''\n",
        "    preds = self.predict(X_test)\n",
        "    accuracy = sum(preds==y_test) / len(y_test)\n",
        "    return accuracy \n"
      ],
      "metadata": {
        "id": "aEgS_A24kiZi"
      },
      "execution_count": 9,
      "outputs": []
    },
    {
      "cell_type": "markdown",
      "source": [
        "### 3) Run the implemented KNN algorithm to our dataset"
      ],
      "metadata": {
        "id": "1wFfg7p7oK83"
      }
    },
    {
      "cell_type": "code",
      "source": [
        "knn = KNeighborsClassifier(k=20)\n",
        "knn.fit(X_train, y_train)\n",
        "preds = knn.predict(X_test)\n",
        "\n",
        "plt.scatter(X_test[:, 0], X_test[:, 1], c=color_map[preds])\n",
        "\n",
        "accuracy = knn.evaluate(X_test, y_test)\n",
        "print(accuracy)"
      ],
      "metadata": {
        "colab": {
          "base_uri": "https://localhost:8080/",
          "height": 282
        },
        "id": "GQnRjVXSoLTy",
        "outputId": "e1ea8c35-bd9d-4535-e871-c5a10e2c6f03"
      },
      "execution_count": 10,
      "outputs": [
        {
          "output_type": "stream",
          "name": "stdout",
          "text": [
            "1.0\n"
          ]
        },
        {
          "output_type": "display_data",
          "data": {
            "text/plain": [
              "<Figure size 432x288 with 1 Axes>"
            ],
            "image/png": "[encoded data removed]"
          },
          "metadata": {
            "needs_background": "light"
          }
        }
      ]
    },
    {
      "cell_type": "markdown",
      "source": [
        "### 4) Find the optimal k value using evaluation "
      ],
      "metadata": {
        "id": "sjbE1hEko9_7"
      }
    },
    {
      "cell_type": "code",
      "source": [
        "accuracies = [] \n",
        "k_candidates = range(1, 50)\n",
        "\n",
        "for k in k_candidates:\n",
        "  knn = KNeighborsClassifier(k=k)\n",
        "  knn.fit(X_train, y_train)\n",
        "  accuracies.append(knn.evaluate(X_test, y_test))\n",
        "\n",
        "plt.plot(k_candidates, accuracies)\n",
        "plt.xlabel('K')\n",
        "plt.ylabel('Accuracy')"
      ],
      "metadata": {
        "colab": {
          "base_uri": "https://localhost:8080/",
          "height": 296
        },
        "id": "wEmSSJnOo9Af",
        "outputId": "186fa433-6993-4aa6-cd52-24710a407683"
      },
      "execution_count": 11,
      "outputs": [
        {
          "output_type": "execute_result",
          "data": {
            "text/plain": [
              "Text(0, 0.5, 'Accuracy')"
            ]
          },
          "metadata": {},
          "execution_count": 11
        },
        {
          "output_type": "display_data",
          "data": {
            "text/plain": [
              "<Figure size 432x288 with 1 Axes>"
            ],
            "image/png": "[encoded data removed]"
          },
          "metadata": {
            "needs_background": "light"
          }
        }
      ]
    },
    {
      "cell_type": "code",
      "source": [
        "accuracies = np.array(accuracies)\n",
        "optimal_idx = np.argmax(accuracies)\n",
        "k_optimal = k_candidates[optimal_idx]\n",
        "print(k_optimal)"
      ],
      "metadata": {
        "colab": {
          "base_uri": "https://localhost:8080/"
        },
        "id": "uOnrLUECpmjE",
        "outputId": "3bd7c287-2d47-40df-f598-edfefc044cac"
      },
      "execution_count": 12,
      "outputs": [
        {
          "output_type": "stream",
          "name": "stdout",
          "text": [
            "3\n"
          ]
        }
      ]
    },
    {
      "cell_type": "markdown",
      "source": [
        "## Reference\n",
        "- https://towardsdatascience.com/k-nearest-neighbors-algorithm-in-python-by-example-79abc37a4443\n",
        "- https://towardsdatascience.com/create-your-own-k-nearest-neighbors-algorithm-in-python-eb7093fc6339\n",
        "- https://realpython.com/knn-python/"
      ],
      "metadata": {
        "id": "IcbvyyOHetiH"
      }
    },
    {
      "cell_type": "code",
      "source": [],
      "metadata": {
        "id": "o2aEbwfrjE7a"
      },
      "execution_count": 12,
      "outputs": []
    }
  ]
}
